{
 "cells": [
  {
   "cell_type": "code",
   "execution_count": 1,
   "id": "8c6e56cc",
   "metadata": {},
   "outputs": [],
   "source": [
    "import numpy as np\n",
    "import pandas as pd\n",
    "import seaborn as sns\n",
    "import matplotlib.pyplot as plt\n",
    "import warnings\n",
    "warnings.filterwarnings('ignore')"
   ]
  },
  {
   "cell_type": "markdown",
   "id": "f1d365bd",
   "metadata": {},
   "source": [
    "## Importing and exploring the Data"
   ]
  },
  {
   "cell_type": "code",
   "execution_count": 2,
   "id": "13708b1c",
   "metadata": {},
   "outputs": [],
   "source": [
    "data = pd.read_csv(r'C:\\Users\\rajar\\OneDrive\\Desktop\\Excel Folder\\housing data.csv')"
   ]
  },
  {
   "cell_type": "code",
   "execution_count": 3,
   "id": "1fcedbfb",
   "metadata": {},
   "outputs": [
    {
     "data": {
      "text/plain": [
       "pandas.core.frame.DataFrame"
      ]
     },
     "execution_count": 3,
     "metadata": {},
     "output_type": "execute_result"
    }
   ],
   "source": [
    "type(data)"
   ]
  },
  {
   "cell_type": "code",
   "execution_count": 4,
   "id": "3228d4c2",
   "metadata": {
    "collapsed": true
   },
   "outputs": [
    {
     "data": {
      "text/html": [
       "<div>\n",
       "<style scoped>\n",
       "    .dataframe tbody tr th:only-of-type {\n",
       "        vertical-align: middle;\n",
       "    }\n",
       "\n",
       "    .dataframe tbody tr th {\n",
       "        vertical-align: top;\n",
       "    }\n",
       "\n",
       "    .dataframe thead th {\n",
       "        text-align: right;\n",
       "    }\n",
       "</style>\n",
       "<table border=\"1\" class=\"dataframe\">\n",
       "  <thead>\n",
       "    <tr style=\"text-align: right;\">\n",
       "      <th></th>\n",
       "      <th>Id</th>\n",
       "      <th>OverallQual</th>\n",
       "      <th>YearBuilt</th>\n",
       "      <th>TotalBsmtSF</th>\n",
       "      <th>Electrical</th>\n",
       "      <th>GrLivArea</th>\n",
       "      <th>FullBath</th>\n",
       "      <th>GarageType</th>\n",
       "      <th>GarageCars</th>\n",
       "      <th>GarageArea</th>\n",
       "      <th>Fence</th>\n",
       "      <th>MiscFeature</th>\n",
       "      <th>SalePrice</th>\n",
       "    </tr>\n",
       "  </thead>\n",
       "  <tbody>\n",
       "    <tr>\n",
       "      <th>0</th>\n",
       "      <td>1</td>\n",
       "      <td>7</td>\n",
       "      <td>2003</td>\n",
       "      <td>856</td>\n",
       "      <td>SBrkr</td>\n",
       "      <td>1710</td>\n",
       "      <td>2</td>\n",
       "      <td>Attchd</td>\n",
       "      <td>2</td>\n",
       "      <td>548</td>\n",
       "      <td>NaN</td>\n",
       "      <td>NaN</td>\n",
       "      <td>208500</td>\n",
       "    </tr>\n",
       "    <tr>\n",
       "      <th>1</th>\n",
       "      <td>2</td>\n",
       "      <td>6</td>\n",
       "      <td>1976</td>\n",
       "      <td>1262</td>\n",
       "      <td>SBrkr</td>\n",
       "      <td>1262</td>\n",
       "      <td>2</td>\n",
       "      <td>Attchd</td>\n",
       "      <td>2</td>\n",
       "      <td>460</td>\n",
       "      <td>NaN</td>\n",
       "      <td>NaN</td>\n",
       "      <td>181500</td>\n",
       "    </tr>\n",
       "    <tr>\n",
       "      <th>2</th>\n",
       "      <td>3</td>\n",
       "      <td>7</td>\n",
       "      <td>2001</td>\n",
       "      <td>920</td>\n",
       "      <td>SBrkr</td>\n",
       "      <td>1786</td>\n",
       "      <td>2</td>\n",
       "      <td>Attchd</td>\n",
       "      <td>2</td>\n",
       "      <td>608</td>\n",
       "      <td>NaN</td>\n",
       "      <td>NaN</td>\n",
       "      <td>223500</td>\n",
       "    </tr>\n",
       "    <tr>\n",
       "      <th>3</th>\n",
       "      <td>4</td>\n",
       "      <td>7</td>\n",
       "      <td>1915</td>\n",
       "      <td>756</td>\n",
       "      <td>SBrkr</td>\n",
       "      <td>1717</td>\n",
       "      <td>1</td>\n",
       "      <td>Detchd</td>\n",
       "      <td>3</td>\n",
       "      <td>642</td>\n",
       "      <td>NaN</td>\n",
       "      <td>NaN</td>\n",
       "      <td>140000</td>\n",
       "    </tr>\n",
       "    <tr>\n",
       "      <th>4</th>\n",
       "      <td>5</td>\n",
       "      <td>8</td>\n",
       "      <td>2000</td>\n",
       "      <td>1145</td>\n",
       "      <td>SBrkr</td>\n",
       "      <td>2198</td>\n",
       "      <td>2</td>\n",
       "      <td>Attchd</td>\n",
       "      <td>3</td>\n",
       "      <td>836</td>\n",
       "      <td>NaN</td>\n",
       "      <td>NaN</td>\n",
       "      <td>250000</td>\n",
       "    </tr>\n",
       "    <tr>\n",
       "      <th>5</th>\n",
       "      <td>6</td>\n",
       "      <td>5</td>\n",
       "      <td>1993</td>\n",
       "      <td>796</td>\n",
       "      <td>SBrkr</td>\n",
       "      <td>1362</td>\n",
       "      <td>1</td>\n",
       "      <td>Attchd</td>\n",
       "      <td>2</td>\n",
       "      <td>480</td>\n",
       "      <td>MnPrv</td>\n",
       "      <td>Shed</td>\n",
       "      <td>143000</td>\n",
       "    </tr>\n",
       "    <tr>\n",
       "      <th>6</th>\n",
       "      <td>7</td>\n",
       "      <td>8</td>\n",
       "      <td>2004</td>\n",
       "      <td>1686</td>\n",
       "      <td>SBrkr</td>\n",
       "      <td>1694</td>\n",
       "      <td>2</td>\n",
       "      <td>Attchd</td>\n",
       "      <td>2</td>\n",
       "      <td>636</td>\n",
       "      <td>NaN</td>\n",
       "      <td>NaN</td>\n",
       "      <td>307000</td>\n",
       "    </tr>\n",
       "    <tr>\n",
       "      <th>7</th>\n",
       "      <td>8</td>\n",
       "      <td>7</td>\n",
       "      <td>1973</td>\n",
       "      <td>1107</td>\n",
       "      <td>SBrkr</td>\n",
       "      <td>2090</td>\n",
       "      <td>2</td>\n",
       "      <td>Attchd</td>\n",
       "      <td>2</td>\n",
       "      <td>484</td>\n",
       "      <td>NaN</td>\n",
       "      <td>Shed</td>\n",
       "      <td>200000</td>\n",
       "    </tr>\n",
       "    <tr>\n",
       "      <th>8</th>\n",
       "      <td>9</td>\n",
       "      <td>5</td>\n",
       "      <td>1939</td>\n",
       "      <td>991</td>\n",
       "      <td>SBrkr</td>\n",
       "      <td>1077</td>\n",
       "      <td>1</td>\n",
       "      <td>NaN</td>\n",
       "      <td>1</td>\n",
       "      <td>205</td>\n",
       "      <td>NaN</td>\n",
       "      <td>NaN</td>\n",
       "      <td>118000</td>\n",
       "    </tr>\n",
       "    <tr>\n",
       "      <th>9</th>\n",
       "      <td>10</td>\n",
       "      <td>5</td>\n",
       "      <td>1965</td>\n",
       "      <td>1040</td>\n",
       "      <td>SBrkr</td>\n",
       "      <td>1040</td>\n",
       "      <td>1</td>\n",
       "      <td>Detchd</td>\n",
       "      <td>1</td>\n",
       "      <td>384</td>\n",
       "      <td>NaN</td>\n",
       "      <td>NaN</td>\n",
       "      <td>129500</td>\n",
       "    </tr>\n",
       "  </tbody>\n",
       "</table>\n",
       "</div>"
      ],
      "text/plain": [
       "   Id  OverallQual  YearBuilt  TotalBsmtSF Electrical  GrLivArea  FullBath  \\\n",
       "0   1            7       2003          856      SBrkr       1710         2   \n",
       "1   2            6       1976         1262      SBrkr       1262         2   \n",
       "2   3            7       2001          920      SBrkr       1786         2   \n",
       "3   4            7       1915          756      SBrkr       1717         1   \n",
       "4   5            8       2000         1145      SBrkr       2198         2   \n",
       "5   6            5       1993          796      SBrkr       1362         1   \n",
       "6   7            8       2004         1686      SBrkr       1694         2   \n",
       "7   8            7       1973         1107      SBrkr       2090         2   \n",
       "8   9            5       1939          991      SBrkr       1077         1   \n",
       "9  10            5       1965         1040      SBrkr       1040         1   \n",
       "\n",
       "  GarageType  GarageCars  GarageArea  Fence MiscFeature  SalePrice  \n",
       "0     Attchd           2         548    NaN         NaN     208500  \n",
       "1     Attchd           2         460    NaN         NaN     181500  \n",
       "2     Attchd           2         608    NaN         NaN     223500  \n",
       "3     Detchd           3         642    NaN         NaN     140000  \n",
       "4     Attchd           3         836    NaN         NaN     250000  \n",
       "5     Attchd           2         480  MnPrv        Shed     143000  \n",
       "6     Attchd           2         636    NaN         NaN     307000  \n",
       "7     Attchd           2         484    NaN        Shed     200000  \n",
       "8        NaN           1         205    NaN         NaN     118000  \n",
       "9     Detchd           1         384    NaN         NaN     129500  "
      ]
     },
     "execution_count": 4,
     "metadata": {},
     "output_type": "execute_result"
    }
   ],
   "source": [
    "data.head(10)"
   ]
  },
  {
   "cell_type": "code",
   "execution_count": 5,
   "id": "5c68d849",
   "metadata": {},
   "outputs": [
    {
     "name": "stdout",
     "output_type": "stream",
     "text": [
      "No of records:  1418\n",
      "No of columns:  13\n"
     ]
    }
   ],
   "source": [
    "print('No of Rows: ',data.shape[0])\n",
    "print('No of Columns: ',data.shape[1])"
   ]
  },
  {
   "cell_type": "code",
   "execution_count": 6,
   "id": "0dfc2da1",
   "metadata": {},
   "outputs": [
    {
     "data": {
      "text/html": [
       "<div>\n",
       "<style scoped>\n",
       "    .dataframe tbody tr th:only-of-type {\n",
       "        vertical-align: middle;\n",
       "    }\n",
       "\n",
       "    .dataframe tbody tr th {\n",
       "        vertical-align: top;\n",
       "    }\n",
       "\n",
       "    .dataframe thead th {\n",
       "        text-align: right;\n",
       "    }\n",
       "</style>\n",
       "<table border=\"1\" class=\"dataframe\">\n",
       "  <thead>\n",
       "    <tr style=\"text-align: right;\">\n",
       "      <th></th>\n",
       "      <th>Id</th>\n",
       "      <th>OverallQual</th>\n",
       "      <th>YearBuilt</th>\n",
       "      <th>TotalBsmtSF</th>\n",
       "      <th>Electrical</th>\n",
       "      <th>GrLivArea</th>\n",
       "      <th>FullBath</th>\n",
       "      <th>GarageType</th>\n",
       "      <th>GarageCars</th>\n",
       "      <th>GarageArea</th>\n",
       "      <th>Fence</th>\n",
       "      <th>MiscFeature</th>\n",
       "      <th>SalePrice</th>\n",
       "    </tr>\n",
       "  </thead>\n",
       "  <tbody>\n",
       "    <tr>\n",
       "      <th>1413</th>\n",
       "      <td>1414</td>\n",
       "      <td>6</td>\n",
       "      <td>1999</td>\n",
       "      <td>953</td>\n",
       "      <td>SBrkr</td>\n",
       "      <td>1647</td>\n",
       "      <td>2</td>\n",
       "      <td>Attchd</td>\n",
       "      <td>2</td>\n",
       "      <td>460</td>\n",
       "      <td>NaN</td>\n",
       "      <td>NaN</td>\n",
       "      <td>175000</td>\n",
       "    </tr>\n",
       "    <tr>\n",
       "      <th>1414</th>\n",
       "      <td>1415</td>\n",
       "      <td>6</td>\n",
       "      <td>1978</td>\n",
       "      <td>1542</td>\n",
       "      <td>SBrkr</td>\n",
       "      <td>2073</td>\n",
       "      <td>2</td>\n",
       "      <td>Attchd</td>\n",
       "      <td>2</td>\n",
       "      <td>500</td>\n",
       "      <td>MnPrv</td>\n",
       "      <td>NaN</td>\n",
       "      <td>210000</td>\n",
       "    </tr>\n",
       "    <tr>\n",
       "      <th>1415</th>\n",
       "      <td>1416</td>\n",
       "      <td>7</td>\n",
       "      <td>1941</td>\n",
       "      <td>1152</td>\n",
       "      <td>SBrkr</td>\n",
       "      <td>2340</td>\n",
       "      <td>2</td>\n",
       "      <td>Attchd</td>\n",
       "      <td>1</td>\n",
       "      <td>252</td>\n",
       "      <td>GdPrv</td>\n",
       "      <td>Shed</td>\n",
       "      <td>266500</td>\n",
       "    </tr>\n",
       "    <tr>\n",
       "      <th>1416</th>\n",
       "      <td>1417</td>\n",
       "      <td>5</td>\n",
       "      <td>1950</td>\n",
       "      <td>1078</td>\n",
       "      <td>FuseA</td>\n",
       "      <td>1078</td>\n",
       "      <td>1</td>\n",
       "      <td>NaN</td>\n",
       "      <td>1</td>\n",
       "      <td>240</td>\n",
       "      <td>NaN</td>\n",
       "      <td>NaN</td>\n",
       "      <td>142125</td>\n",
       "    </tr>\n",
       "    <tr>\n",
       "      <th>1417</th>\n",
       "      <td>1418</td>\n",
       "      <td>5</td>\n",
       "      <td>1965</td>\n",
       "      <td>1256</td>\n",
       "      <td>SBrkr</td>\n",
       "      <td>1256</td>\n",
       "      <td>1</td>\n",
       "      <td>Attchd</td>\n",
       "      <td>1</td>\n",
       "      <td>276</td>\n",
       "      <td>NaN</td>\n",
       "      <td>NaN</td>\n",
       "      <td>147500</td>\n",
       "    </tr>\n",
       "  </tbody>\n",
       "</table>\n",
       "</div>"
      ],
      "text/plain": [
       "        Id  OverallQual  YearBuilt  TotalBsmtSF Electrical  GrLivArea  \\\n",
       "1413  1414            6       1999          953      SBrkr       1647   \n",
       "1414  1415            6       1978         1542      SBrkr       2073   \n",
       "1415  1416            7       1941         1152      SBrkr       2340   \n",
       "1416  1417            5       1950         1078      FuseA       1078   \n",
       "1417  1418            5       1965         1256      SBrkr       1256   \n",
       "\n",
       "      FullBath GarageType  GarageCars  GarageArea  Fence MiscFeature  \\\n",
       "1413         2     Attchd           2         460    NaN         NaN   \n",
       "1414         2     Attchd           2         500  MnPrv         NaN   \n",
       "1415         2     Attchd           1         252  GdPrv        Shed   \n",
       "1416         1        NaN           1         240    NaN         NaN   \n",
       "1417         1     Attchd           1         276    NaN         NaN   \n",
       "\n",
       "      SalePrice  \n",
       "1413     175000  \n",
       "1414     210000  \n",
       "1415     266500  \n",
       "1416     142125  \n",
       "1417     147500  "
      ]
     },
     "execution_count": 6,
     "metadata": {},
     "output_type": "execute_result"
    }
   ],
   "source": [
    "data.tail()"
   ]
  },
  {
   "cell_type": "code",
   "execution_count": 7,
   "id": "a260a02f",
   "metadata": {},
   "outputs": [
    {
     "name": "stdout",
     "output_type": "stream",
     "text": [
      "<class 'pandas.core.frame.DataFrame'>\n",
      "RangeIndex: 1418 entries, 0 to 1417\n",
      "Data columns (total 13 columns):\n",
      " #   Column       Non-Null Count  Dtype \n",
      "---  ------       --------------  ----- \n",
      " 0   Id           1418 non-null   int64 \n",
      " 1   OverallQual  1418 non-null   int64 \n",
      " 2   YearBuilt    1418 non-null   int64 \n",
      " 3   TotalBsmtSF  1418 non-null   int64 \n",
      " 4   Electrical   1417 non-null   object\n",
      " 5   GrLivArea    1418 non-null   int64 \n",
      " 6   FullBath     1418 non-null   int64 \n",
      " 7   GarageType   1275 non-null   object\n",
      " 8   GarageCars   1418 non-null   int64 \n",
      " 9   GarageArea   1418 non-null   int64 \n",
      " 10  Fence        270 non-null    object\n",
      " 11  MiscFeature  52 non-null     object\n",
      " 12  SalePrice    1418 non-null   int64 \n",
      "dtypes: int64(9), object(4)\n",
      "memory usage: 144.1+ KB\n"
     ]
    }
   ],
   "source": [
    "data.info()"
   ]
  },
  {
   "cell_type": "markdown",
   "id": "702c622c",
   "metadata": {},
   "source": [
    "From the above info we can see that there are missing values in Electrical, Garage Type,Fence, MiscFeatures"
   ]
  },
  {
   "cell_type": "code",
   "execution_count": 8,
   "id": "9047f6dd",
   "metadata": {},
   "outputs": [
    {
     "data": {
      "text/html": [
       "<div>\n",
       "<style scoped>\n",
       "    .dataframe tbody tr th:only-of-type {\n",
       "        vertical-align: middle;\n",
       "    }\n",
       "\n",
       "    .dataframe tbody tr th {\n",
       "        vertical-align: top;\n",
       "    }\n",
       "\n",
       "    .dataframe thead th {\n",
       "        text-align: right;\n",
       "    }\n",
       "</style>\n",
       "<table border=\"1\" class=\"dataframe\">\n",
       "  <thead>\n",
       "    <tr style=\"text-align: right;\">\n",
       "      <th></th>\n",
       "      <th>count</th>\n",
       "      <th>mean</th>\n",
       "      <th>std</th>\n",
       "      <th>min</th>\n",
       "      <th>25%</th>\n",
       "      <th>50%</th>\n",
       "      <th>75%</th>\n",
       "      <th>max</th>\n",
       "    </tr>\n",
       "  </thead>\n",
       "  <tbody>\n",
       "    <tr>\n",
       "      <th>Id</th>\n",
       "      <td>1418.0</td>\n",
       "      <td>709.500000</td>\n",
       "      <td>409.485653</td>\n",
       "      <td>1.0</td>\n",
       "      <td>355.25</td>\n",
       "      <td>709.5</td>\n",
       "      <td>1063.75</td>\n",
       "      <td>1418.0</td>\n",
       "    </tr>\n",
       "    <tr>\n",
       "      <th>OverallQual</th>\n",
       "      <td>1418.0</td>\n",
       "      <td>6.114245</td>\n",
       "      <td>1.385858</td>\n",
       "      <td>1.0</td>\n",
       "      <td>5.00</td>\n",
       "      <td>6.0</td>\n",
       "      <td>7.00</td>\n",
       "      <td>10.0</td>\n",
       "    </tr>\n",
       "    <tr>\n",
       "      <th>YearBuilt</th>\n",
       "      <td>1418.0</td>\n",
       "      <td>1971.600846</td>\n",
       "      <td>30.064293</td>\n",
       "      <td>1872.0</td>\n",
       "      <td>1954.00</td>\n",
       "      <td>1973.0</td>\n",
       "      <td>2001.00</td>\n",
       "      <td>2010.0</td>\n",
       "    </tr>\n",
       "    <tr>\n",
       "      <th>TotalBsmtSF</th>\n",
       "      <td>1418.0</td>\n",
       "      <td>1061.712271</td>\n",
       "      <td>437.277589</td>\n",
       "      <td>0.0</td>\n",
       "      <td>796.50</td>\n",
       "      <td>994.0</td>\n",
       "      <td>1303.50</td>\n",
       "      <td>6110.0</td>\n",
       "    </tr>\n",
       "    <tr>\n",
       "      <th>GrLivArea</th>\n",
       "      <td>1418.0</td>\n",
       "      <td>1519.645275</td>\n",
       "      <td>527.412584</td>\n",
       "      <td>334.0</td>\n",
       "      <td>1132.50</td>\n",
       "      <td>1468.5</td>\n",
       "      <td>1786.00</td>\n",
       "      <td>5642.0</td>\n",
       "    </tr>\n",
       "    <tr>\n",
       "      <th>FullBath</th>\n",
       "      <td>1418.0</td>\n",
       "      <td>1.565585</td>\n",
       "      <td>0.551127</td>\n",
       "      <td>0.0</td>\n",
       "      <td>1.00</td>\n",
       "      <td>2.0</td>\n",
       "      <td>2.00</td>\n",
       "      <td>3.0</td>\n",
       "    </tr>\n",
       "    <tr>\n",
       "      <th>GarageCars</th>\n",
       "      <td>1418.0</td>\n",
       "      <td>1.763752</td>\n",
       "      <td>0.755995</td>\n",
       "      <td>0.0</td>\n",
       "      <td>1.00</td>\n",
       "      <td>2.0</td>\n",
       "      <td>2.00</td>\n",
       "      <td>4.0</td>\n",
       "    </tr>\n",
       "    <tr>\n",
       "      <th>GarageArea</th>\n",
       "      <td>1418.0</td>\n",
       "      <td>472.617772</td>\n",
       "      <td>216.068677</td>\n",
       "      <td>0.0</td>\n",
       "      <td>324.25</td>\n",
       "      <td>478.0</td>\n",
       "      <td>576.00</td>\n",
       "      <td>1418.0</td>\n",
       "    </tr>\n",
       "    <tr>\n",
       "      <th>SalePrice</th>\n",
       "      <td>1418.0</td>\n",
       "      <td>182089.485896</td>\n",
       "      <td>79970.934085</td>\n",
       "      <td>34900.0</td>\n",
       "      <td>130000.00</td>\n",
       "      <td>164800.0</td>\n",
       "      <td>215000.00</td>\n",
       "      <td>755000.0</td>\n",
       "    </tr>\n",
       "  </tbody>\n",
       "</table>\n",
       "</div>"
      ],
      "text/plain": [
       "              count           mean           std      min        25%  \\\n",
       "Id           1418.0     709.500000    409.485653      1.0     355.25   \n",
       "OverallQual  1418.0       6.114245      1.385858      1.0       5.00   \n",
       "YearBuilt    1418.0    1971.600846     30.064293   1872.0    1954.00   \n",
       "TotalBsmtSF  1418.0    1061.712271    437.277589      0.0     796.50   \n",
       "GrLivArea    1418.0    1519.645275    527.412584    334.0    1132.50   \n",
       "FullBath     1418.0       1.565585      0.551127      0.0       1.00   \n",
       "GarageCars   1418.0       1.763752      0.755995      0.0       1.00   \n",
       "GarageArea   1418.0     472.617772    216.068677      0.0     324.25   \n",
       "SalePrice    1418.0  182089.485896  79970.934085  34900.0  130000.00   \n",
       "\n",
       "                  50%        75%       max  \n",
       "Id              709.5    1063.75    1418.0  \n",
       "OverallQual       6.0       7.00      10.0  \n",
       "YearBuilt      1973.0    2001.00    2010.0  \n",
       "TotalBsmtSF     994.0    1303.50    6110.0  \n",
       "GrLivArea      1468.5    1786.00    5642.0  \n",
       "FullBath          2.0       2.00       3.0  \n",
       "GarageCars        2.0       2.00       4.0  \n",
       "GarageArea      478.0     576.00    1418.0  \n",
       "SalePrice    164800.0  215000.00  755000.0  "
      ]
     },
     "execution_count": 8,
     "metadata": {},
     "output_type": "execute_result"
    }
   ],
   "source": [
    "data.describe().T"
   ]
  },
  {
   "cell_type": "markdown",
   "id": "0f2e8591",
   "metadata": {},
   "source": [
    "From the above describe we can get a Hint of outliers in TotalBsmtSF, GrLivArea,GarageArea, SalePrice"
   ]
  },
  {
   "cell_type": "code",
   "execution_count": 9,
   "id": "d02b8733",
   "metadata": {},
   "outputs": [
    {
     "data": {
      "text/html": [
       "<div>\n",
       "<style scoped>\n",
       "    .dataframe tbody tr th:only-of-type {\n",
       "        vertical-align: middle;\n",
       "    }\n",
       "\n",
       "    .dataframe tbody tr th {\n",
       "        vertical-align: top;\n",
       "    }\n",
       "\n",
       "    .dataframe thead th {\n",
       "        text-align: right;\n",
       "    }\n",
       "</style>\n",
       "<table border=\"1\" class=\"dataframe\">\n",
       "  <thead>\n",
       "    <tr style=\"text-align: right;\">\n",
       "      <th></th>\n",
       "      <th>Electrical</th>\n",
       "      <th>GarageType</th>\n",
       "      <th>Fence</th>\n",
       "      <th>MiscFeature</th>\n",
       "    </tr>\n",
       "  </thead>\n",
       "  <tbody>\n",
       "    <tr>\n",
       "      <th>count</th>\n",
       "      <td>1417</td>\n",
       "      <td>1275</td>\n",
       "      <td>270</td>\n",
       "      <td>52</td>\n",
       "    </tr>\n",
       "    <tr>\n",
       "      <th>unique</th>\n",
       "      <td>5</td>\n",
       "      <td>6</td>\n",
       "      <td>4</td>\n",
       "      <td>4</td>\n",
       "    </tr>\n",
       "    <tr>\n",
       "      <th>top</th>\n",
       "      <td>SBrkr</td>\n",
       "      <td>Attchd</td>\n",
       "      <td>MnPrv</td>\n",
       "      <td>Shed</td>\n",
       "    </tr>\n",
       "    <tr>\n",
       "      <th>freq</th>\n",
       "      <td>1300</td>\n",
       "      <td>800</td>\n",
       "      <td>148</td>\n",
       "      <td>47</td>\n",
       "    </tr>\n",
       "  </tbody>\n",
       "</table>\n",
       "</div>"
      ],
      "text/plain": [
       "       Electrical GarageType  Fence MiscFeature\n",
       "count        1417       1275    270          52\n",
       "unique          5          6      4           4\n",
       "top         SBrkr     Attchd  MnPrv        Shed\n",
       "freq         1300        800    148          47"
      ]
     },
     "execution_count": 9,
     "metadata": {},
     "output_type": "execute_result"
    }
   ],
   "source": [
    "data.describe(include=object)"
   ]
  },
  {
   "cell_type": "code",
   "execution_count": 10,
   "id": "a2485cb8",
   "metadata": {
    "collapsed": true
   },
   "outputs": [
    {
     "data": {
      "text/html": [
       "<div>\n",
       "<style scoped>\n",
       "    .dataframe tbody tr th:only-of-type {\n",
       "        vertical-align: middle;\n",
       "    }\n",
       "\n",
       "    .dataframe tbody tr th {\n",
       "        vertical-align: top;\n",
       "    }\n",
       "\n",
       "    .dataframe thead th {\n",
       "        text-align: right;\n",
       "    }\n",
       "</style>\n",
       "<table border=\"1\" class=\"dataframe\">\n",
       "  <thead>\n",
       "    <tr style=\"text-align: right;\">\n",
       "      <th></th>\n",
       "      <th>Id</th>\n",
       "      <th>OverallQual</th>\n",
       "      <th>YearBuilt</th>\n",
       "      <th>TotalBsmtSF</th>\n",
       "      <th>GrLivArea</th>\n",
       "      <th>FullBath</th>\n",
       "      <th>GarageCars</th>\n",
       "      <th>GarageArea</th>\n",
       "      <th>SalePrice</th>\n",
       "    </tr>\n",
       "  </thead>\n",
       "  <tbody>\n",
       "    <tr>\n",
       "      <th>Id</th>\n",
       "      <td>1.000000</td>\n",
       "      <td>-0.029188</td>\n",
       "      <td>-0.017960</td>\n",
       "      <td>-0.019396</td>\n",
       "      <td>0.002991</td>\n",
       "      <td>-0.000113</td>\n",
       "      <td>0.015633</td>\n",
       "      <td>0.014457</td>\n",
       "      <td>-0.029967</td>\n",
       "    </tr>\n",
       "    <tr>\n",
       "      <th>OverallQual</th>\n",
       "      <td>-0.029188</td>\n",
       "      <td>1.000000</td>\n",
       "      <td>0.584692</td>\n",
       "      <td>0.545747</td>\n",
       "      <td>0.592881</td>\n",
       "      <td>0.550112</td>\n",
       "      <td>0.609104</td>\n",
       "      <td>0.567796</td>\n",
       "      <td>0.791478</td>\n",
       "    </tr>\n",
       "    <tr>\n",
       "      <th>YearBuilt</th>\n",
       "      <td>-0.017960</td>\n",
       "      <td>0.584692</td>\n",
       "      <td>1.000000</td>\n",
       "      <td>0.396971</td>\n",
       "      <td>0.204757</td>\n",
       "      <td>0.478441</td>\n",
       "      <td>0.550275</td>\n",
       "      <td>0.492807</td>\n",
       "      <td>0.528006</td>\n",
       "    </tr>\n",
       "    <tr>\n",
       "      <th>TotalBsmtSF</th>\n",
       "      <td>-0.019396</td>\n",
       "      <td>0.545747</td>\n",
       "      <td>0.396971</td>\n",
       "      <td>1.000000</td>\n",
       "      <td>0.456365</td>\n",
       "      <td>0.326705</td>\n",
       "      <td>0.442614</td>\n",
       "      <td>0.495600</td>\n",
       "      <td>0.619852</td>\n",
       "    </tr>\n",
       "    <tr>\n",
       "      <th>GrLivArea</th>\n",
       "      <td>0.002991</td>\n",
       "      <td>0.592881</td>\n",
       "      <td>0.204757</td>\n",
       "      <td>0.456365</td>\n",
       "      <td>1.000000</td>\n",
       "      <td>0.626942</td>\n",
       "      <td>0.472139</td>\n",
       "      <td>0.470736</td>\n",
       "      <td>0.709503</td>\n",
       "    </tr>\n",
       "    <tr>\n",
       "      <th>FullBath</th>\n",
       "      <td>-0.000113</td>\n",
       "      <td>0.550112</td>\n",
       "      <td>0.478441</td>\n",
       "      <td>0.326705</td>\n",
       "      <td>0.626942</td>\n",
       "      <td>1.000000</td>\n",
       "      <td>0.473365</td>\n",
       "      <td>0.408453</td>\n",
       "      <td>0.562269</td>\n",
       "    </tr>\n",
       "    <tr>\n",
       "      <th>GarageCars</th>\n",
       "      <td>0.015633</td>\n",
       "      <td>0.609104</td>\n",
       "      <td>0.550275</td>\n",
       "      <td>0.442614</td>\n",
       "      <td>0.472139</td>\n",
       "      <td>0.473365</td>\n",
       "      <td>1.000000</td>\n",
       "      <td>0.884674</td>\n",
       "      <td>0.647676</td>\n",
       "    </tr>\n",
       "    <tr>\n",
       "      <th>GarageArea</th>\n",
       "      <td>0.014457</td>\n",
       "      <td>0.567796</td>\n",
       "      <td>0.492807</td>\n",
       "      <td>0.495600</td>\n",
       "      <td>0.470736</td>\n",
       "      <td>0.408453</td>\n",
       "      <td>0.884674</td>\n",
       "      <td>1.000000</td>\n",
       "      <td>0.627264</td>\n",
       "    </tr>\n",
       "    <tr>\n",
       "      <th>SalePrice</th>\n",
       "      <td>-0.029967</td>\n",
       "      <td>0.791478</td>\n",
       "      <td>0.528006</td>\n",
       "      <td>0.619852</td>\n",
       "      <td>0.709503</td>\n",
       "      <td>0.562269</td>\n",
       "      <td>0.647676</td>\n",
       "      <td>0.627264</td>\n",
       "      <td>1.000000</td>\n",
       "    </tr>\n",
       "  </tbody>\n",
       "</table>\n",
       "</div>"
      ],
      "text/plain": [
       "                   Id  OverallQual  YearBuilt  TotalBsmtSF  GrLivArea  \\\n",
       "Id           1.000000    -0.029188  -0.017960    -0.019396   0.002991   \n",
       "OverallQual -0.029188     1.000000   0.584692     0.545747   0.592881   \n",
       "YearBuilt   -0.017960     0.584692   1.000000     0.396971   0.204757   \n",
       "TotalBsmtSF -0.019396     0.545747   0.396971     1.000000   0.456365   \n",
       "GrLivArea    0.002991     0.592881   0.204757     0.456365   1.000000   \n",
       "FullBath    -0.000113     0.550112   0.478441     0.326705   0.626942   \n",
       "GarageCars   0.015633     0.609104   0.550275     0.442614   0.472139   \n",
       "GarageArea   0.014457     0.567796   0.492807     0.495600   0.470736   \n",
       "SalePrice   -0.029967     0.791478   0.528006     0.619852   0.709503   \n",
       "\n",
       "             FullBath  GarageCars  GarageArea  SalePrice  \n",
       "Id          -0.000113    0.015633    0.014457  -0.029967  \n",
       "OverallQual  0.550112    0.609104    0.567796   0.791478  \n",
       "YearBuilt    0.478441    0.550275    0.492807   0.528006  \n",
       "TotalBsmtSF  0.326705    0.442614    0.495600   0.619852  \n",
       "GrLivArea    0.626942    0.472139    0.470736   0.709503  \n",
       "FullBath     1.000000    0.473365    0.408453   0.562269  \n",
       "GarageCars   0.473365    1.000000    0.884674   0.647676  \n",
       "GarageArea   0.408453    0.884674    1.000000   0.627264  \n",
       "SalePrice    0.562269    0.647676    0.627264   1.000000  "
      ]
     },
     "execution_count": 10,
     "metadata": {},
     "output_type": "execute_result"
    }
   ],
   "source": [
    "data.corr()"
   ]
  },
  {
   "cell_type": "code",
   "execution_count": 11,
   "id": "e9731897",
   "metadata": {
    "collapsed": true
   },
   "outputs": [
    {
     "data": {
      "image/png": "[encoded data removed]",
      "text/plain": [
       "<Figure size 720x504 with 2 Axes>"
      ]
     },
     "metadata": {
      "needs_background": "light"
     },
     "output_type": "display_data"
    }
   ],
   "source": [
    "plt.figure(figsize=(10,7))\n",
    "sns.heatmap(data.corr(),annot=True, vmax=1,vmin=-1, cmap='RdBu')\n",
    "plt.show()"
   ]
  },
  {
   "cell_type": "code",
   "execution_count": 12,
   "id": "9a7036ac",
   "metadata": {
    "collapsed": true
   },
   "outputs": [
    {
     "data": {
      "text/plain": [
       "SalePrice      1.000000\n",
       "OverallQual    0.791478\n",
       "GrLivArea      0.709503\n",
       "GarageCars     0.647676\n",
       "GarageArea     0.627264\n",
       "TotalBsmtSF    0.619852\n",
       "FullBath       0.562269\n",
       "YearBuilt      0.528006\n",
       "Id            -0.029967\n",
       "Name: SalePrice, dtype: float64"
      ]
     },
     "execution_count": 12,
     "metadata": {},
     "output_type": "execute_result"
    }
   ],
   "source": [
    "data.corr()['SalePrice'].sort_values(ascending=False)"
   ]
  },
  {
   "cell_type": "code",
   "execution_count": 13,
   "id": "81b5ba26",
   "metadata": {
    "collapsed": true
   },
   "outputs": [
    {
     "data": {
      "image/png": "[encoded data removed]",
      "text/plain": [
       "<Figure size 540x180 with 3 Axes>"
      ]
     },
     "metadata": {
      "needs_background": "light"
     },
     "output_type": "display_data"
    }
   ],
   "source": [
    "sns.pairplot(x_vars=['TotalBsmtSF', 'GrLivArea','GarageArea'],y_vars=['SalePrice'],data=data)\n",
    "plt.show()"
   ]
  },
  {
   "cell_type": "markdown",
   "id": "ea2db5b1",
   "metadata": {},
   "source": [
    "## Univariate and Bivariate Analysis"
   ]
  },
  {
   "cell_type": "code",
   "execution_count": 14,
   "id": "51372fa8",
   "metadata": {
    "collapsed": true
   },
   "outputs": [
    {
     "data": {
      "image/png": "[encoded data removed]",
      "text/plain": [
       "<Figure size 432x288 with 1 Axes>"
      ]
     },
     "metadata": {
      "needs_background": "light"
     },
     "output_type": "display_data"
    }
   ],
   "source": [
    "# Explare the Target Variable (SalePrice)\n",
    "sns.histplot(data['SalePrice'],bins=range(0,750000,50000))\n",
    "plt.title('Histogram')\n",
    "\n",
    "plt.show()"
   ]
  },
  {
   "cell_type": "code",
   "execution_count": 15,
   "id": "a9ddd36a",
   "metadata": {
    "collapsed": true
   },
   "outputs": [
    {
     "name": "stdout",
     "output_type": "stream",
     "text": [
      "Skewness:  1.8646120239750106\n",
      "Kurtosis:  6.432852054835754\n"
     ]
    },
    {
     "data": {
      "image/png": "[encoded data removed]",
      "text/plain": [
       "<Figure size 432x288 with 1 Axes>"
      ]
     },
     "metadata": {
      "needs_background": "light"
     },
     "output_type": "display_data"
    }
   ],
   "source": [
    "sns.distplot(data['SalePrice'])\n",
    "print('Skewness: ',data['SalePrice'].skew())\n",
    "print('Kurtosis: ',data['SalePrice'].kurt())\n",
    "plt.show()"
   ]
  },
  {
   "cell_type": "code",
   "execution_count": 16,
   "id": "ed27f6c1",
   "metadata": {
    "collapsed": true
   },
   "outputs": [
    {
     "data": {
      "image/png": "[encoded data removed]",
      "text/plain": [
       "<Figure size 432x288 with 1 Axes>"
      ]
     },
     "metadata": {
      "needs_background": "light"
     },
     "output_type": "display_data"
    }
   ],
   "source": [
    "sns.boxplot(data['SalePrice'])\n",
    "plt.show()"
   ]
  },
  {
   "cell_type": "code",
   "execution_count": 17,
   "id": "bcd72395",
   "metadata": {},
   "outputs": [],
   "source": [
    "# Explore the SalePrice with some categorical columns (OverallQual,GarageType,Electrical)"
   ]
  },
  {
   "cell_type": "code",
   "execution_count": 18,
   "id": "d1be7b3a",
   "metadata": {},
   "outputs": [
    {
     "data": {
      "image/png": "[encoded data removed]",
      "text/plain": [
       "<Figure size 1080x1080 with 3 Axes>"
      ]
     },
     "metadata": {
      "needs_background": "light"
     },
     "output_type": "display_data"
    }
   ],
   "source": [
    "plt.figure(figsize=(15,15))\n",
    "plt.subplot(3,1,1)\n",
    "sns.boxplot(x=data['OverallQual'],y=data['SalePrice'])\n",
    "plt.subplot(3,1,2)\n",
    "sns.boxplot(x=data['GarageType'],y=data['SalePrice'])\n",
    "plt.subplot(3,1,3)\n",
    "sns.boxplot(x=data['Electrical'],y=data['SalePrice'])\n",
    "plt.show()"
   ]
  },
  {
   "cell_type": "code",
   "execution_count": 19,
   "id": "0236346a",
   "metadata": {},
   "outputs": [],
   "source": [
    "# Perform statistical test on SalePrice on the basis of overall quality"
   ]
  },
  {
   "cell_type": "code",
   "execution_count": 20,
   "id": "245563d6",
   "metadata": {},
   "outputs": [],
   "source": [
    "price_a = data[data['OverallQual']<=5]['SalePrice']\n",
    "price_b = data[data['OverallQual']>5]['SalePrice']"
   ]
  },
  {
   "cell_type": "code",
   "execution_count": 21,
   "id": "7147859c",
   "metadata": {},
   "outputs": [],
   "source": [
    "from statsmodels.stats.weightstats import ztest,ttest_ind"
   ]
  },
  {
   "cell_type": "code",
   "execution_count": 22,
   "id": "b2eb5f92",
   "metadata": {},
   "outputs": [
    {
     "name": "stdout",
     "output_type": "stream",
     "text": [
      "z-score:  -23.626614342802807\n",
      "p-value:  2.0535400662857033e-123\n",
      "Accept The H1:\n"
     ]
    }
   ],
   "source": [
    "# H0: There is no difference in Sample a and Sample b\n",
    "# H1: The two samples are different\n",
    "\n",
    "z_score,p_value = ztest(price_a,price_b)\n",
    "print('z-score: ',z_score)\n",
    "print('p-value: ',p_value)\n",
    "if p_value<0.05:\n",
    "    print('Accept The H1:')\n",
    "else:\n",
    "    print('Accept the H0:')"
   ]
  },
  {
   "cell_type": "code",
   "execution_count": 23,
   "id": "528d33f7",
   "metadata": {},
   "outputs": [
    {
     "data": {
      "text/plain": [
       "Attchd     800\n",
       "Detchd     354\n",
       "BuiltIn     87\n",
       "Basment     19\n",
       "CarPort      9\n",
       "2Types       6\n",
       "Name: GarageType, dtype: int64"
      ]
     },
     "execution_count": 23,
     "metadata": {},
     "output_type": "execute_result"
    }
   ],
   "source": [
    "data['GarageType'].value_counts()"
   ]
  },
  {
   "cell_type": "code",
   "execution_count": 24,
   "id": "409eed4d",
   "metadata": {},
   "outputs": [
    {
     "data": {
      "text/plain": [
       "2    787\n",
       "1    364\n",
       "3    181\n",
       "0     81\n",
       "4      5\n",
       "Name: GarageCars, dtype: int64"
      ]
     },
     "execution_count": 24,
     "metadata": {},
     "output_type": "execute_result"
    }
   ],
   "source": [
    "data['GarageCars'].value_counts()"
   ]
  },
  {
   "cell_type": "code",
   "execution_count": 25,
   "id": "cef537df",
   "metadata": {},
   "outputs": [],
   "source": [
    "from scipy.stats import chi2_contingency"
   ]
  },
  {
   "cell_type": "code",
   "execution_count": 26,
   "id": "1834a361",
   "metadata": {},
   "outputs": [],
   "source": [
    "observed = pd.crosstab(data['GarageCars'],data['GarageType'])"
   ]
  },
  {
   "cell_type": "code",
   "execution_count": 27,
   "id": "cde8f3c3",
   "metadata": {},
   "outputs": [
    {
     "name": "stdout",
     "output_type": "stream",
     "text": [
      "Chi sq:  303.7522700344729\n",
      "p-value:  9.277832977712945e-56\n",
      "Accept The H1:\n"
     ]
    }
   ],
   "source": [
    "# H0: The two columns Independent\n",
    "# H1: The two columns are dependent\n",
    "\n",
    "chi,p,dof,expected = chi2_contingency(observed)\n",
    "print('Chi sq: ',chi)\n",
    "print('p-value: ',p)\n",
    "if p<0.05:\n",
    "    print('Accept The H1:')\n",
    "else:\n",
    "    print('Accept the H0:')"
   ]
  },
  {
   "cell_type": "code",
   "execution_count": 28,
   "id": "a6d443f0",
   "metadata": {},
   "outputs": [
    {
     "data": {
      "text/html": [
       "<div>\n",
       "<style scoped>\n",
       "    .dataframe tbody tr th:only-of-type {\n",
       "        vertical-align: middle;\n",
       "    }\n",
       "\n",
       "    .dataframe tbody tr th {\n",
       "        vertical-align: top;\n",
       "    }\n",
       "\n",
       "    .dataframe thead th {\n",
       "        text-align: right;\n",
       "    }\n",
       "</style>\n",
       "<table border=\"1\" class=\"dataframe\">\n",
       "  <thead>\n",
       "    <tr style=\"text-align: right;\">\n",
       "      <th></th>\n",
       "      <th>0</th>\n",
       "      <th>1</th>\n",
       "      <th>2</th>\n",
       "      <th>3</th>\n",
       "      <th>4</th>\n",
       "      <th>5</th>\n",
       "    </tr>\n",
       "  </thead>\n",
       "  <tbody>\n",
       "    <tr>\n",
       "      <th>0</th>\n",
       "      <td>1.421176</td>\n",
       "      <td>189.490196</td>\n",
       "      <td>4.500392</td>\n",
       "      <td>20.607059</td>\n",
       "      <td>2.131765</td>\n",
       "      <td>83.849412</td>\n",
       "    </tr>\n",
       "    <tr>\n",
       "      <th>1</th>\n",
       "      <td>3.703529</td>\n",
       "      <td>493.803922</td>\n",
       "      <td>11.727843</td>\n",
       "      <td>53.701176</td>\n",
       "      <td>5.555294</td>\n",
       "      <td>218.508235</td>\n",
       "    </tr>\n",
       "    <tr>\n",
       "      <th>2</th>\n",
       "      <td>0.851765</td>\n",
       "      <td>113.568627</td>\n",
       "      <td>2.697255</td>\n",
       "      <td>12.350588</td>\n",
       "      <td>1.277647</td>\n",
       "      <td>50.254118</td>\n",
       "    </tr>\n",
       "    <tr>\n",
       "      <th>3</th>\n",
       "      <td>0.023529</td>\n",
       "      <td>3.137255</td>\n",
       "      <td>0.074510</td>\n",
       "      <td>0.341176</td>\n",
       "      <td>0.035294</td>\n",
       "      <td>1.388235</td>\n",
       "    </tr>\n",
       "  </tbody>\n",
       "</table>\n",
       "</div>"
      ],
      "text/plain": [
       "          0           1          2          3         4           5\n",
       "0  1.421176  189.490196   4.500392  20.607059  2.131765   83.849412\n",
       "1  3.703529  493.803922  11.727843  53.701176  5.555294  218.508235\n",
       "2  0.851765  113.568627   2.697255  12.350588  1.277647   50.254118\n",
       "3  0.023529    3.137255   0.074510   0.341176  0.035294    1.388235"
      ]
     },
     "execution_count": 28,
     "metadata": {},
     "output_type": "execute_result"
    }
   ],
   "source": [
    "pd.DataFrame(expected)"
   ]
  },
  {
   "cell_type": "markdown",
   "id": "3f84f3bf",
   "metadata": {},
   "source": [
    "## Exploring and Treating the Missing Values"
   ]
  },
  {
   "cell_type": "code",
   "execution_count": 29,
   "id": "5b9e3627",
   "metadata": {
    "collapsed": true
   },
   "outputs": [
    {
     "data": {
      "text/plain": [
       "Id                0\n",
       "OverallQual       0\n",
       "YearBuilt         0\n",
       "TotalBsmtSF       0\n",
       "Electrical        1\n",
       "GrLivArea         0\n",
       "FullBath          0\n",
       "GarageType      143\n",
       "GarageCars        0\n",
       "GarageArea        0\n",
       "Fence          1148\n",
       "MiscFeature    1366\n",
       "SalePrice         0\n",
       "dtype: int64"
      ]
     },
     "execution_count": 29,
     "metadata": {},
     "output_type": "execute_result"
    }
   ],
   "source": [
    "data.isnull().sum()"
   ]
  },
  {
   "cell_type": "code",
   "execution_count": 30,
   "id": "8eaeca21",
   "metadata": {
    "collapsed": true
   },
   "outputs": [
    {
     "data": {
      "text/plain": [
       "MiscFeature    96.332863\n",
       "Fence          80.959097\n",
       "GarageType     10.084626\n",
       "Electrical      0.070522\n",
       "Id              0.000000\n",
       "OverallQual     0.000000\n",
       "YearBuilt       0.000000\n",
       "TotalBsmtSF     0.000000\n",
       "GrLivArea       0.000000\n",
       "FullBath        0.000000\n",
       "GarageCars      0.000000\n",
       "GarageArea      0.000000\n",
       "SalePrice       0.000000\n",
       "dtype: float64"
      ]
     },
     "execution_count": 30,
     "metadata": {},
     "output_type": "execute_result"
    }
   ],
   "source": [
    "((data.isnull().sum()/data.isnull().count())*100).sort_values(ascending=False)"
   ]
  },
  {
   "cell_type": "code",
   "execution_count": 31,
   "id": "a89b62b2",
   "metadata": {},
   "outputs": [
    {
     "data": {
      "text/html": [
       "<div>\n",
       "<style scoped>\n",
       "    .dataframe tbody tr th:only-of-type {\n",
       "        vertical-align: middle;\n",
       "    }\n",
       "\n",
       "    .dataframe tbody tr th {\n",
       "        vertical-align: top;\n",
       "    }\n",
       "\n",
       "    .dataframe thead th {\n",
       "        text-align: right;\n",
       "    }\n",
       "</style>\n",
       "<table border=\"1\" class=\"dataframe\">\n",
       "  <thead>\n",
       "    <tr style=\"text-align: right;\">\n",
       "      <th></th>\n",
       "      <th>Id</th>\n",
       "      <th>OverallQual</th>\n",
       "      <th>YearBuilt</th>\n",
       "      <th>TotalBsmtSF</th>\n",
       "      <th>Electrical</th>\n",
       "      <th>GrLivArea</th>\n",
       "      <th>FullBath</th>\n",
       "      <th>GarageType</th>\n",
       "      <th>GarageCars</th>\n",
       "      <th>GarageArea</th>\n",
       "      <th>Fence</th>\n",
       "      <th>MiscFeature</th>\n",
       "      <th>SalePrice</th>\n",
       "    </tr>\n",
       "  </thead>\n",
       "  <tbody>\n",
       "    <tr>\n",
       "      <th>1339</th>\n",
       "      <td>1340</td>\n",
       "      <td>5</td>\n",
       "      <td>2006</td>\n",
       "      <td>384</td>\n",
       "      <td>NaN</td>\n",
       "      <td>1394</td>\n",
       "      <td>2</td>\n",
       "      <td>BuiltIn</td>\n",
       "      <td>2</td>\n",
       "      <td>400</td>\n",
       "      <td>NaN</td>\n",
       "      <td>NaN</td>\n",
       "      <td>167500</td>\n",
       "    </tr>\n",
       "  </tbody>\n",
       "</table>\n",
       "</div>"
      ],
      "text/plain": [
       "        Id  OverallQual  YearBuilt  TotalBsmtSF Electrical  GrLivArea  \\\n",
       "1339  1340            5       2006          384        NaN       1394   \n",
       "\n",
       "      FullBath GarageType  GarageCars  GarageArea Fence MiscFeature  SalePrice  \n",
       "1339         2    BuiltIn           2         400   NaN         NaN     167500  "
      ]
     },
     "execution_count": 31,
     "metadata": {},
     "output_type": "execute_result"
    }
   ],
   "source": [
    "# First Let us treat the missing values in Electrical\n",
    "data[data['Electrical'].isnull()]"
   ]
  },
  {
   "cell_type": "code",
   "execution_count": 32,
   "id": "7997599d",
   "metadata": {},
   "outputs": [
    {
     "data": {
      "text/plain": [
       "0    SBrkr\n",
       "dtype: object"
      ]
     },
     "execution_count": 32,
     "metadata": {},
     "output_type": "execute_result"
    }
   ],
   "source": [
    "data['Electrical'].mode()"
   ]
  },
  {
   "cell_type": "code",
   "execution_count": 33,
   "id": "f916ffd6",
   "metadata": {},
   "outputs": [],
   "source": [
    "data['Electrical'].fillna(data['Electrical'].mode()[0],inplace=True)"
   ]
  },
  {
   "cell_type": "code",
   "execution_count": 34,
   "id": "5bed2d1c",
   "metadata": {},
   "outputs": [
    {
     "data": {
      "text/html": [
       "<div>\n",
       "<style scoped>\n",
       "    .dataframe tbody tr th:only-of-type {\n",
       "        vertical-align: middle;\n",
       "    }\n",
       "\n",
       "    .dataframe tbody tr th {\n",
       "        vertical-align: top;\n",
       "    }\n",
       "\n",
       "    .dataframe thead th {\n",
       "        text-align: right;\n",
       "    }\n",
       "</style>\n",
       "<table border=\"1\" class=\"dataframe\">\n",
       "  <thead>\n",
       "    <tr style=\"text-align: right;\">\n",
       "      <th></th>\n",
       "      <th>Id</th>\n",
       "      <th>OverallQual</th>\n",
       "      <th>YearBuilt</th>\n",
       "      <th>TotalBsmtSF</th>\n",
       "      <th>Electrical</th>\n",
       "      <th>GrLivArea</th>\n",
       "      <th>FullBath</th>\n",
       "      <th>GarageType</th>\n",
       "      <th>GarageCars</th>\n",
       "      <th>GarageArea</th>\n",
       "      <th>Fence</th>\n",
       "      <th>MiscFeature</th>\n",
       "      <th>SalePrice</th>\n",
       "    </tr>\n",
       "  </thead>\n",
       "  <tbody>\n",
       "  </tbody>\n",
       "</table>\n",
       "</div>"
      ],
      "text/plain": [
       "Empty DataFrame\n",
       "Columns: [Id, OverallQual, YearBuilt, TotalBsmtSF, Electrical, GrLivArea, FullBath, GarageType, GarageCars, GarageArea, Fence, MiscFeature, SalePrice]\n",
       "Index: []"
      ]
     },
     "execution_count": 34,
     "metadata": {},
     "output_type": "execute_result"
    }
   ],
   "source": [
    "data[data['Electrical'].isnull()]"
   ]
  },
  {
   "cell_type": "code",
   "execution_count": 35,
   "id": "09681bcd",
   "metadata": {},
   "outputs": [],
   "source": [
    "# Next let us treat the Garage Type column"
   ]
  },
  {
   "cell_type": "code",
   "execution_count": 36,
   "id": "ae71a44a",
   "metadata": {},
   "outputs": [
    {
     "data": {
      "text/html": [
       "<div>\n",
       "<style scoped>\n",
       "    .dataframe tbody tr th:only-of-type {\n",
       "        vertical-align: middle;\n",
       "    }\n",
       "\n",
       "    .dataframe tbody tr th {\n",
       "        vertical-align: top;\n",
       "    }\n",
       "\n",
       "    .dataframe thead th {\n",
       "        text-align: right;\n",
       "    }\n",
       "</style>\n",
       "<table border=\"1\" class=\"dataframe\">\n",
       "  <thead>\n",
       "    <tr style=\"text-align: right;\">\n",
       "      <th></th>\n",
       "      <th>Id</th>\n",
       "      <th>OverallQual</th>\n",
       "      <th>YearBuilt</th>\n",
       "      <th>TotalBsmtSF</th>\n",
       "      <th>Electrical</th>\n",
       "      <th>GrLivArea</th>\n",
       "      <th>FullBath</th>\n",
       "      <th>GarageType</th>\n",
       "      <th>GarageCars</th>\n",
       "      <th>GarageArea</th>\n",
       "      <th>Fence</th>\n",
       "      <th>MiscFeature</th>\n",
       "      <th>SalePrice</th>\n",
       "    </tr>\n",
       "  </thead>\n",
       "  <tbody>\n",
       "    <tr>\n",
       "      <th>8</th>\n",
       "      <td>9</td>\n",
       "      <td>5</td>\n",
       "      <td>1939</td>\n",
       "      <td>991</td>\n",
       "      <td>SBrkr</td>\n",
       "      <td>1077</td>\n",
       "      <td>1</td>\n",
       "      <td>NaN</td>\n",
       "      <td>1</td>\n",
       "      <td>205</td>\n",
       "      <td>NaN</td>\n",
       "      <td>NaN</td>\n",
       "      <td>118000</td>\n",
       "    </tr>\n",
       "    <tr>\n",
       "      <th>22</th>\n",
       "      <td>23</td>\n",
       "      <td>5</td>\n",
       "      <td>1968</td>\n",
       "      <td>1060</td>\n",
       "      <td>SBrkr</td>\n",
       "      <td>1060</td>\n",
       "      <td>1</td>\n",
       "      <td>NaN</td>\n",
       "      <td>1</td>\n",
       "      <td>270</td>\n",
       "      <td>MnPrv</td>\n",
       "      <td>NaN</td>\n",
       "      <td>154000</td>\n",
       "    </tr>\n",
       "    <tr>\n",
       "      <th>26</th>\n",
       "      <td>27</td>\n",
       "      <td>5</td>\n",
       "      <td>1957</td>\n",
       "      <td>1484</td>\n",
       "      <td>SBrkr</td>\n",
       "      <td>1600</td>\n",
       "      <td>1</td>\n",
       "      <td>NaN</td>\n",
       "      <td>1</td>\n",
       "      <td>319</td>\n",
       "      <td>NaN</td>\n",
       "      <td>NaN</td>\n",
       "      <td>207500</td>\n",
       "    </tr>\n",
       "    <tr>\n",
       "      <th>37</th>\n",
       "      <td>38</td>\n",
       "      <td>4</td>\n",
       "      <td>1955</td>\n",
       "      <td>0</td>\n",
       "      <td>FuseP</td>\n",
       "      <td>1152</td>\n",
       "      <td>2</td>\n",
       "      <td>NaN</td>\n",
       "      <td>0</td>\n",
       "      <td>0</td>\n",
       "      <td>NaN</td>\n",
       "      <td>NaN</td>\n",
       "      <td>82000</td>\n",
       "    </tr>\n",
       "    <tr>\n",
       "      <th>39</th>\n",
       "      <td>40</td>\n",
       "      <td>5</td>\n",
       "      <td>1959</td>\n",
       "      <td>1350</td>\n",
       "      <td>SBrkr</td>\n",
       "      <td>1328</td>\n",
       "      <td>1</td>\n",
       "      <td>NaN</td>\n",
       "      <td>1</td>\n",
       "      <td>308</td>\n",
       "      <td>NaN</td>\n",
       "      <td>NaN</td>\n",
       "      <td>170000</td>\n",
       "    </tr>\n",
       "    <tr>\n",
       "      <th>...</th>\n",
       "      <td>...</td>\n",
       "      <td>...</td>\n",
       "      <td>...</td>\n",
       "      <td>...</td>\n",
       "      <td>...</td>\n",
       "      <td>...</td>\n",
       "      <td>...</td>\n",
       "      <td>...</td>\n",
       "      <td>...</td>\n",
       "      <td>...</td>\n",
       "      <td>...</td>\n",
       "      <td>...</td>\n",
       "      <td>...</td>\n",
       "    </tr>\n",
       "    <tr>\n",
       "      <th>1387</th>\n",
       "      <td>1388</td>\n",
       "      <td>5</td>\n",
       "      <td>1940</td>\n",
       "      <td>788</td>\n",
       "      <td>SBrkr</td>\n",
       "      <td>804</td>\n",
       "      <td>1</td>\n",
       "      <td>NaN</td>\n",
       "      <td>1</td>\n",
       "      <td>240</td>\n",
       "      <td>MnPrv</td>\n",
       "      <td>NaN</td>\n",
       "      <td>119000</td>\n",
       "    </tr>\n",
       "    <tr>\n",
       "      <th>1407</th>\n",
       "      <td>1408</td>\n",
       "      <td>5</td>\n",
       "      <td>1970</td>\n",
       "      <td>630</td>\n",
       "      <td>SBrkr</td>\n",
       "      <td>630</td>\n",
       "      <td>1</td>\n",
       "      <td>NaN</td>\n",
       "      <td>0</td>\n",
       "      <td>0</td>\n",
       "      <td>NaN</td>\n",
       "      <td>NaN</td>\n",
       "      <td>92000</td>\n",
       "    </tr>\n",
       "    <tr>\n",
       "      <th>1408</th>\n",
       "      <td>1409</td>\n",
       "      <td>5</td>\n",
       "      <td>1974</td>\n",
       "      <td>896</td>\n",
       "      <td>SBrkr</td>\n",
       "      <td>1792</td>\n",
       "      <td>2</td>\n",
       "      <td>NaN</td>\n",
       "      <td>0</td>\n",
       "      <td>0</td>\n",
       "      <td>NaN</td>\n",
       "      <td>NaN</td>\n",
       "      <td>136000</td>\n",
       "    </tr>\n",
       "    <tr>\n",
       "      <th>1411</th>\n",
       "      <td>1412</td>\n",
       "      <td>5</td>\n",
       "      <td>2006</td>\n",
       "      <td>1140</td>\n",
       "      <td>SBrkr</td>\n",
       "      <td>1140</td>\n",
       "      <td>1</td>\n",
       "      <td>NaN</td>\n",
       "      <td>0</td>\n",
       "      <td>0</td>\n",
       "      <td>NaN</td>\n",
       "      <td>NaN</td>\n",
       "      <td>84500</td>\n",
       "    </tr>\n",
       "    <tr>\n",
       "      <th>1416</th>\n",
       "      <td>1417</td>\n",
       "      <td>5</td>\n",
       "      <td>1950</td>\n",
       "      <td>1078</td>\n",
       "      <td>FuseA</td>\n",
       "      <td>1078</td>\n",
       "      <td>1</td>\n",
       "      <td>NaN</td>\n",
       "      <td>1</td>\n",
       "      <td>240</td>\n",
       "      <td>NaN</td>\n",
       "      <td>NaN</td>\n",
       "      <td>142125</td>\n",
       "    </tr>\n",
       "  </tbody>\n",
       "</table>\n",
       "<p>143 rows × 13 columns</p>\n",
       "</div>"
      ],
      "text/plain": [
       "        Id  OverallQual  YearBuilt  TotalBsmtSF Electrical  GrLivArea  \\\n",
       "8        9            5       1939          991      SBrkr       1077   \n",
       "22      23            5       1968         1060      SBrkr       1060   \n",
       "26      27            5       1957         1484      SBrkr       1600   \n",
       "37      38            4       1955            0      FuseP       1152   \n",
       "39      40            5       1959         1350      SBrkr       1328   \n",
       "...    ...          ...        ...          ...        ...        ...   \n",
       "1387  1388            5       1940          788      SBrkr        804   \n",
       "1407  1408            5       1970          630      SBrkr        630   \n",
       "1408  1409            5       1974          896      SBrkr       1792   \n",
       "1411  1412            5       2006         1140      SBrkr       1140   \n",
       "1416  1417            5       1950         1078      FuseA       1078   \n",
       "\n",
       "      FullBath GarageType  GarageCars  GarageArea  Fence MiscFeature  \\\n",
       "8            1        NaN           1         205    NaN         NaN   \n",
       "22           1        NaN           1         270  MnPrv         NaN   \n",
       "26           1        NaN           1         319    NaN         NaN   \n",
       "37           2        NaN           0           0    NaN         NaN   \n",
       "39           1        NaN           1         308    NaN         NaN   \n",
       "...        ...        ...         ...         ...    ...         ...   \n",
       "1387         1        NaN           1         240  MnPrv         NaN   \n",
       "1407         1        NaN           0           0    NaN         NaN   \n",
       "1408         2        NaN           0           0    NaN         NaN   \n",
       "1411         1        NaN           0           0    NaN         NaN   \n",
       "1416         1        NaN           1         240    NaN         NaN   \n",
       "\n",
       "      SalePrice  \n",
       "8        118000  \n",
       "22       154000  \n",
       "26       207500  \n",
       "37        82000  \n",
       "39       170000  \n",
       "...         ...  \n",
       "1387     119000  \n",
       "1407      92000  \n",
       "1408     136000  \n",
       "1411      84500  \n",
       "1416     142125  \n",
       "\n",
       "[143 rows x 13 columns]"
      ]
     },
     "execution_count": 36,
     "metadata": {},
     "output_type": "execute_result"
    }
   ],
   "source": [
    "data[data['GarageType'].isnull()]"
   ]
  },
  {
   "cell_type": "code",
   "execution_count": 37,
   "id": "9286ef13",
   "metadata": {},
   "outputs": [
    {
     "data": {
      "text/plain": [
       "Attchd     800\n",
       "Detchd     354\n",
       "BuiltIn     87\n",
       "Basment     19\n",
       "CarPort      9\n",
       "2Types       6\n",
       "Name: GarageType, dtype: int64"
      ]
     },
     "execution_count": 37,
     "metadata": {},
     "output_type": "execute_result"
    }
   ],
   "source": [
    "data['GarageType'].value_counts()"
   ]
  },
  {
   "cell_type": "code",
   "execution_count": 38,
   "id": "7c39a6ac",
   "metadata": {},
   "outputs": [],
   "source": [
    "data['GarageType'] = np.where(data['GarageArea']==0,'NoGarage',data['GarageType'])"
   ]
  },
  {
   "cell_type": "code",
   "execution_count": 39,
   "id": "9e10c21e",
   "metadata": {},
   "outputs": [],
   "source": [
    "data_garagetype_null = data[data['GarageType'].isnull()]"
   ]
  },
  {
   "cell_type": "code",
   "execution_count": 40,
   "id": "7b19b9b1",
   "metadata": {
    "collapsed": true
   },
   "outputs": [
    {
     "data": {
      "text/plain": [
       "Attchd      800\n",
       "Detchd      354\n",
       "BuiltIn      87\n",
       "NoGarage     81\n",
       "Basment      19\n",
       "CarPort       9\n",
       "2Types        6\n",
       "Name: GarageType, dtype: int64"
      ]
     },
     "execution_count": 40,
     "metadata": {},
     "output_type": "execute_result"
    }
   ],
   "source": [
    "data['GarageType'].value_counts()"
   ]
  },
  {
   "cell_type": "code",
   "execution_count": 41,
   "id": "00f04e4d",
   "metadata": {},
   "outputs": [
    {
     "data": {
      "text/plain": [
       "1    62\n",
       "Name: GarageCars, dtype: int64"
      ]
     },
     "execution_count": 41,
     "metadata": {},
     "output_type": "execute_result"
    }
   ],
   "source": [
    "data_garagetype_null['GarageCars'].value_counts()"
   ]
  },
  {
   "cell_type": "code",
   "execution_count": 42,
   "id": "ba5dc5fb",
   "metadata": {},
   "outputs": [
    {
     "data": {
      "text/plain": [
       "2    787\n",
       "1    364\n",
       "3    181\n",
       "0     81\n",
       "4      5\n",
       "Name: GarageCars, dtype: int64"
      ]
     },
     "execution_count": 42,
     "metadata": {},
     "output_type": "execute_result"
    }
   ],
   "source": [
    "data['GarageCars'].value_counts()"
   ]
  },
  {
   "cell_type": "code",
   "execution_count": 43,
   "id": "d2678a9c",
   "metadata": {},
   "outputs": [
    {
     "data": {
      "text/plain": [
       "0    Detchd\n",
       "dtype: object"
      ]
     },
     "execution_count": 43,
     "metadata": {},
     "output_type": "execute_result"
    }
   ],
   "source": [
    "data[data['GarageCars']==1]['GarageType'].mode()"
   ]
  },
  {
   "cell_type": "code",
   "execution_count": 44,
   "id": "153fef3f",
   "metadata": {},
   "outputs": [],
   "source": [
    "data['GarageType'].fillna(data[data['GarageCars']==1]['GarageType'].mode()[0],inplace=True)"
   ]
  },
  {
   "cell_type": "code",
   "execution_count": 45,
   "id": "c48be452",
   "metadata": {},
   "outputs": [
    {
     "data": {
      "text/html": [
       "<div>\n",
       "<style scoped>\n",
       "    .dataframe tbody tr th:only-of-type {\n",
       "        vertical-align: middle;\n",
       "    }\n",
       "\n",
       "    .dataframe tbody tr th {\n",
       "        vertical-align: top;\n",
       "    }\n",
       "\n",
       "    .dataframe thead th {\n",
       "        text-align: right;\n",
       "    }\n",
       "</style>\n",
       "<table border=\"1\" class=\"dataframe\">\n",
       "  <thead>\n",
       "    <tr style=\"text-align: right;\">\n",
       "      <th></th>\n",
       "      <th>Id</th>\n",
       "      <th>OverallQual</th>\n",
       "      <th>YearBuilt</th>\n",
       "      <th>TotalBsmtSF</th>\n",
       "      <th>Electrical</th>\n",
       "      <th>GrLivArea</th>\n",
       "      <th>FullBath</th>\n",
       "      <th>GarageType</th>\n",
       "      <th>GarageCars</th>\n",
       "      <th>GarageArea</th>\n",
       "      <th>Fence</th>\n",
       "      <th>MiscFeature</th>\n",
       "      <th>SalePrice</th>\n",
       "    </tr>\n",
       "  </thead>\n",
       "  <tbody>\n",
       "  </tbody>\n",
       "</table>\n",
       "</div>"
      ],
      "text/plain": [
       "Empty DataFrame\n",
       "Columns: [Id, OverallQual, YearBuilt, TotalBsmtSF, Electrical, GrLivArea, FullBath, GarageType, GarageCars, GarageArea, Fence, MiscFeature, SalePrice]\n",
       "Index: []"
      ]
     },
     "execution_count": 45,
     "metadata": {},
     "output_type": "execute_result"
    }
   ],
   "source": [
    "data[data['GarageType'].isnull()]"
   ]
  },
  {
   "cell_type": "code",
   "execution_count": 46,
   "id": "d48bd782",
   "metadata": {
    "collapsed": true
   },
   "outputs": [
    {
     "data": {
      "text/plain": [
       "MiscFeature    96.332863\n",
       "Fence          80.959097\n",
       "Id              0.000000\n",
       "OverallQual     0.000000\n",
       "YearBuilt       0.000000\n",
       "TotalBsmtSF     0.000000\n",
       "Electrical      0.000000\n",
       "GrLivArea       0.000000\n",
       "FullBath        0.000000\n",
       "GarageType      0.000000\n",
       "GarageCars      0.000000\n",
       "GarageArea      0.000000\n",
       "SalePrice       0.000000\n",
       "dtype: float64"
      ]
     },
     "execution_count": 46,
     "metadata": {},
     "output_type": "execute_result"
    }
   ],
   "source": [
    "((data.isnull().sum()/data.isnull().count())*100).sort_values(ascending=False)"
   ]
  },
  {
   "cell_type": "code",
   "execution_count": 47,
   "id": "50e2e3c6",
   "metadata": {},
   "outputs": [],
   "source": [
    "data.drop(columns=['MiscFeature','Fence'],inplace=True)"
   ]
  },
  {
   "cell_type": "code",
   "execution_count": 48,
   "id": "97b7584d",
   "metadata": {
    "collapsed": true
   },
   "outputs": [
    {
     "data": {
      "text/plain": [
       "Id             0.0\n",
       "OverallQual    0.0\n",
       "YearBuilt      0.0\n",
       "TotalBsmtSF    0.0\n",
       "Electrical     0.0\n",
       "GrLivArea      0.0\n",
       "FullBath       0.0\n",
       "GarageType     0.0\n",
       "GarageCars     0.0\n",
       "GarageArea     0.0\n",
       "SalePrice      0.0\n",
       "dtype: float64"
      ]
     },
     "execution_count": 48,
     "metadata": {},
     "output_type": "execute_result"
    }
   ],
   "source": [
    "((data.isnull().sum()/data.isnull().count())*100).sort_values(ascending=False)"
   ]
  },
  {
   "cell_type": "markdown",
   "id": "bc57f3b0",
   "metadata": {},
   "source": [
    "## Exploring and treating the outliers"
   ]
  },
  {
   "cell_type": "code",
   "execution_count": 49,
   "id": "d0aa1cd1",
   "metadata": {
    "collapsed": true
   },
   "outputs": [
    {
     "data": {
      "image/png": "[encoded data removed]",
      "text/plain": [
       "<Figure size 432x288 with 1 Axes>"
      ]
     },
     "metadata": {
      "needs_background": "light"
     },
     "output_type": "display_data"
    }
   ],
   "source": [
    "sns.scatterplot(x='SalePrice',y='TotalBsmtSF',data=data)\n",
    "plt.show()"
   ]
  },
  {
   "cell_type": "code",
   "execution_count": 50,
   "id": "52912c9d",
   "metadata": {
    "collapsed": true
   },
   "outputs": [
    {
     "data": {
      "text/plain": [
       "<AxesSubplot:xlabel='TotalBsmtSF'>"
      ]
     },
     "execution_count": 50,
     "metadata": {},
     "output_type": "execute_result"
    },
    {
     "data": {
      "image/png": "[encoded data removed]",
      "text/plain": [
       "<Figure size 432x288 with 1 Axes>"
      ]
     },
     "metadata": {
      "needs_background": "light"
     },
     "output_type": "display_data"
    }
   ],
   "source": [
    "sns.boxplot(data['TotalBsmtSF'])"
   ]
  },
  {
   "cell_type": "code",
   "execution_count": 51,
   "id": "0fe1ab43",
   "metadata": {},
   "outputs": [
    {
     "data": {
      "text/html": [
       "<div>\n",
       "<style scoped>\n",
       "    .dataframe tbody tr th:only-of-type {\n",
       "        vertical-align: middle;\n",
       "    }\n",
       "\n",
       "    .dataframe tbody tr th {\n",
       "        vertical-align: top;\n",
       "    }\n",
       "\n",
       "    .dataframe thead th {\n",
       "        text-align: right;\n",
       "    }\n",
       "</style>\n",
       "<table border=\"1\" class=\"dataframe\">\n",
       "  <thead>\n",
       "    <tr style=\"text-align: right;\">\n",
       "      <th></th>\n",
       "      <th>Id</th>\n",
       "      <th>OverallQual</th>\n",
       "      <th>YearBuilt</th>\n",
       "      <th>TotalBsmtSF</th>\n",
       "      <th>Electrical</th>\n",
       "      <th>GrLivArea</th>\n",
       "      <th>FullBath</th>\n",
       "      <th>GarageType</th>\n",
       "      <th>GarageCars</th>\n",
       "      <th>GarageArea</th>\n",
       "      <th>SalePrice</th>\n",
       "    </tr>\n",
       "  </thead>\n",
       "  <tbody>\n",
       "    <tr>\n",
       "      <th>1260</th>\n",
       "      <td>1261</td>\n",
       "      <td>10</td>\n",
       "      <td>2008</td>\n",
       "      <td>6110</td>\n",
       "      <td>SBrkr</td>\n",
       "      <td>5642</td>\n",
       "      <td>2</td>\n",
       "      <td>Attchd</td>\n",
       "      <td>2</td>\n",
       "      <td>1418</td>\n",
       "      <td>160000</td>\n",
       "    </tr>\n",
       "  </tbody>\n",
       "</table>\n",
       "</div>"
      ],
      "text/plain": [
       "        Id  OverallQual  YearBuilt  TotalBsmtSF Electrical  GrLivArea  \\\n",
       "1260  1261           10       2008         6110      SBrkr       5642   \n",
       "\n",
       "      FullBath GarageType  GarageCars  GarageArea  SalePrice  \n",
       "1260         2     Attchd           2        1418     160000  "
      ]
     },
     "execution_count": 51,
     "metadata": {},
     "output_type": "execute_result"
    }
   ],
   "source": [
    "data[data['TotalBsmtSF']>5000]"
   ]
  },
  {
   "cell_type": "code",
   "execution_count": 52,
   "id": "1a7343ad",
   "metadata": {},
   "outputs": [],
   "source": [
    "data.drop(index=[1260],inplace=True)"
   ]
  },
  {
   "cell_type": "code",
   "execution_count": 53,
   "id": "427156a5",
   "metadata": {
    "collapsed": true
   },
   "outputs": [
    {
     "data": {
      "text/plain": [
       "<AxesSubplot:xlabel='TotalBsmtSF'>"
      ]
     },
     "execution_count": 53,
     "metadata": {},
     "output_type": "execute_result"
    },
    {
     "data": {
      "image/png": "[encoded data removed]",
      "text/plain": [
       "<Figure size 432x288 with 1 Axes>"
      ]
     },
     "metadata": {
      "needs_background": "light"
     },
     "output_type": "display_data"
    }
   ],
   "source": [
    "sns.boxplot(data['TotalBsmtSF'])"
   ]
  },
  {
   "cell_type": "code",
   "execution_count": 54,
   "id": "0ceae1c1",
   "metadata": {
    "collapsed": true
   },
   "outputs": [
    {
     "data": {
      "image/png": "[encoded data removed]",
      "text/plain": [
       "<Figure size 1080x864 with 3 Axes>"
      ]
     },
     "metadata": {
      "needs_background": "light"
     },
     "output_type": "display_data"
    }
   ],
   "source": [
    "plt.figure(figsize=(15,12))\n",
    "plt.subplot(3,1,1)\n",
    "sns.boxplot(data['GrLivArea'])\n",
    "plt.subplot(3,1,2)\n",
    "sns.boxplot(data['GarageArea'])\n",
    "plt.subplot(3,1,3)\n",
    "sns.boxplot(data['SalePrice'])\n",
    "plt.show()"
   ]
  },
  {
   "cell_type": "code",
   "execution_count": 55,
   "id": "5880f781",
   "metadata": {
    "collapsed": true
   },
   "outputs": [
    {
     "data": {
      "image/png": "[encoded data removed]",
      "text/plain": [
       "<Figure size 432x288 with 1 Axes>"
      ]
     },
     "metadata": {
      "needs_background": "light"
     },
     "output_type": "display_data"
    }
   ],
   "source": [
    "sns.scatterplot(x = 'SalePrice',y='GrLivArea',data=data)\n",
    "plt.show()"
   ]
  },
  {
   "cell_type": "code",
   "execution_count": 56,
   "id": "1b534396",
   "metadata": {
    "collapsed": true
   },
   "outputs": [
    {
     "data": {
      "text/html": [
       "<div>\n",
       "<style scoped>\n",
       "    .dataframe tbody tr th:only-of-type {\n",
       "        vertical-align: middle;\n",
       "    }\n",
       "\n",
       "    .dataframe tbody tr th {\n",
       "        vertical-align: top;\n",
       "    }\n",
       "\n",
       "    .dataframe thead th {\n",
       "        text-align: right;\n",
       "    }\n",
       "</style>\n",
       "<table border=\"1\" class=\"dataframe\">\n",
       "  <thead>\n",
       "    <tr style=\"text-align: right;\">\n",
       "      <th></th>\n",
       "      <th>Id</th>\n",
       "      <th>OverallQual</th>\n",
       "      <th>YearBuilt</th>\n",
       "      <th>TotalBsmtSF</th>\n",
       "      <th>Electrical</th>\n",
       "      <th>GrLivArea</th>\n",
       "      <th>FullBath</th>\n",
       "      <th>GarageType</th>\n",
       "      <th>GarageCars</th>\n",
       "      <th>GarageArea</th>\n",
       "      <th>SalePrice</th>\n",
       "    </tr>\n",
       "  </thead>\n",
       "  <tbody>\n",
       "    <tr>\n",
       "      <th>665</th>\n",
       "      <td>666</td>\n",
       "      <td>10</td>\n",
       "      <td>1994</td>\n",
       "      <td>2444</td>\n",
       "      <td>SBrkr</td>\n",
       "      <td>4316</td>\n",
       "      <td>3</td>\n",
       "      <td>Attchd</td>\n",
       "      <td>3</td>\n",
       "      <td>832</td>\n",
       "      <td>755000</td>\n",
       "    </tr>\n",
       "    <tr>\n",
       "      <th>1147</th>\n",
       "      <td>1148</td>\n",
       "      <td>10</td>\n",
       "      <td>1996</td>\n",
       "      <td>2396</td>\n",
       "      <td>SBrkr</td>\n",
       "      <td>4476</td>\n",
       "      <td>3</td>\n",
       "      <td>Attchd</td>\n",
       "      <td>3</td>\n",
       "      <td>813</td>\n",
       "      <td>745000</td>\n",
       "    </tr>\n",
       "  </tbody>\n",
       "</table>\n",
       "</div>"
      ],
      "text/plain": [
       "        Id  OverallQual  YearBuilt  TotalBsmtSF Electrical  GrLivArea  \\\n",
       "665    666           10       1994         2444      SBrkr       4316   \n",
       "1147  1148           10       1996         2396      SBrkr       4476   \n",
       "\n",
       "      FullBath GarageType  GarageCars  GarageArea  SalePrice  \n",
       "665          3     Attchd           3         832     755000  \n",
       "1147         3     Attchd           3         813     745000  "
      ]
     },
     "execution_count": 56,
     "metadata": {},
     "output_type": "execute_result"
    }
   ],
   "source": [
    "data[data['SalePrice']>700000]"
   ]
  },
  {
   "cell_type": "code",
   "execution_count": 57,
   "id": "1de6d6a9",
   "metadata": {
    "collapsed": true
   },
   "outputs": [
    {
     "data": {
      "text/html": [
       "<div>\n",
       "<style scoped>\n",
       "    .dataframe tbody tr th:only-of-type {\n",
       "        vertical-align: middle;\n",
       "    }\n",
       "\n",
       "    .dataframe tbody tr th {\n",
       "        vertical-align: top;\n",
       "    }\n",
       "\n",
       "    .dataframe thead th {\n",
       "        text-align: right;\n",
       "    }\n",
       "</style>\n",
       "<table border=\"1\" class=\"dataframe\">\n",
       "  <thead>\n",
       "    <tr style=\"text-align: right;\">\n",
       "      <th></th>\n",
       "      <th>Id</th>\n",
       "      <th>OverallQual</th>\n",
       "      <th>YearBuilt</th>\n",
       "      <th>TotalBsmtSF</th>\n",
       "      <th>Electrical</th>\n",
       "      <th>GrLivArea</th>\n",
       "      <th>FullBath</th>\n",
       "      <th>GarageType</th>\n",
       "      <th>GarageCars</th>\n",
       "      <th>GarageArea</th>\n",
       "      <th>SalePrice</th>\n",
       "    </tr>\n",
       "  </thead>\n",
       "  <tbody>\n",
       "    <tr>\n",
       "      <th>500</th>\n",
       "      <td>501</td>\n",
       "      <td>10</td>\n",
       "      <td>2007</td>\n",
       "      <td>3138</td>\n",
       "      <td>SBrkr</td>\n",
       "      <td>4676</td>\n",
       "      <td>3</td>\n",
       "      <td>BuiltIn</td>\n",
       "      <td>3</td>\n",
       "      <td>884</td>\n",
       "      <td>184750</td>\n",
       "    </tr>\n",
       "    <tr>\n",
       "      <th>665</th>\n",
       "      <td>666</td>\n",
       "      <td>10</td>\n",
       "      <td>1994</td>\n",
       "      <td>2444</td>\n",
       "      <td>SBrkr</td>\n",
       "      <td>4316</td>\n",
       "      <td>3</td>\n",
       "      <td>Attchd</td>\n",
       "      <td>3</td>\n",
       "      <td>832</td>\n",
       "      <td>755000</td>\n",
       "    </tr>\n",
       "    <tr>\n",
       "      <th>1147</th>\n",
       "      <td>1148</td>\n",
       "      <td>10</td>\n",
       "      <td>1996</td>\n",
       "      <td>2396</td>\n",
       "      <td>SBrkr</td>\n",
       "      <td>4476</td>\n",
       "      <td>3</td>\n",
       "      <td>Attchd</td>\n",
       "      <td>3</td>\n",
       "      <td>813</td>\n",
       "      <td>745000</td>\n",
       "    </tr>\n",
       "  </tbody>\n",
       "</table>\n",
       "</div>"
      ],
      "text/plain": [
       "        Id  OverallQual  YearBuilt  TotalBsmtSF Electrical  GrLivArea  \\\n",
       "500    501           10       2007         3138      SBrkr       4676   \n",
       "665    666           10       1994         2444      SBrkr       4316   \n",
       "1147  1148           10       1996         2396      SBrkr       4476   \n",
       "\n",
       "      FullBath GarageType  GarageCars  GarageArea  SalePrice  \n",
       "500          3    BuiltIn           3         884     184750  \n",
       "665          3     Attchd           3         832     755000  \n",
       "1147         3     Attchd           3         813     745000  "
      ]
     },
     "execution_count": 57,
     "metadata": {},
     "output_type": "execute_result"
    }
   ],
   "source": [
    "data[data['GrLivArea']>4000]"
   ]
  },
  {
   "cell_type": "code",
   "execution_count": 58,
   "id": "fc67db09",
   "metadata": {},
   "outputs": [],
   "source": [
    "data.drop(index=[500],inplace=True)"
   ]
  },
  {
   "cell_type": "code",
   "execution_count": 59,
   "id": "33449711",
   "metadata": {
    "collapsed": true
   },
   "outputs": [
    {
     "data": {
      "image/png": "[encoded data removed]",
      "text/plain": [
       "<Figure size 432x288 with 1 Axes>"
      ]
     },
     "metadata": {
      "needs_background": "light"
     },
     "output_type": "display_data"
    }
   ],
   "source": [
    "sns.scatterplot(x = 'SalePrice',y='GrLivArea',data=data)\n",
    "plt.show()"
   ]
  },
  {
   "cell_type": "code",
   "execution_count": 60,
   "id": "dc355dc5",
   "metadata": {
    "collapsed": true
   },
   "outputs": [
    {
     "data": {
      "text/html": [
       "<div>\n",
       "<style scoped>\n",
       "    .dataframe tbody tr th:only-of-type {\n",
       "        vertical-align: middle;\n",
       "    }\n",
       "\n",
       "    .dataframe tbody tr th {\n",
       "        vertical-align: top;\n",
       "    }\n",
       "\n",
       "    .dataframe thead th {\n",
       "        text-align: right;\n",
       "    }\n",
       "</style>\n",
       "<table border=\"1\" class=\"dataframe\">\n",
       "  <thead>\n",
       "    <tr style=\"text-align: right;\">\n",
       "      <th></th>\n",
       "      <th>count</th>\n",
       "      <th>mean</th>\n",
       "      <th>std</th>\n",
       "      <th>min</th>\n",
       "      <th>25%</th>\n",
       "      <th>50%</th>\n",
       "      <th>75%</th>\n",
       "      <th>max</th>\n",
       "    </tr>\n",
       "  </thead>\n",
       "  <tbody>\n",
       "    <tr>\n",
       "      <th>Id</th>\n",
       "      <td>1416.0</td>\n",
       "      <td>709.257768</td>\n",
       "      <td>409.474995</td>\n",
       "      <td>1.0</td>\n",
       "      <td>354.75</td>\n",
       "      <td>709.5</td>\n",
       "      <td>1063.25</td>\n",
       "      <td>1418.0</td>\n",
       "    </tr>\n",
       "    <tr>\n",
       "      <th>OverallQual</th>\n",
       "      <td>1416.0</td>\n",
       "      <td>6.108757</td>\n",
       "      <td>1.379110</td>\n",
       "      <td>1.0</td>\n",
       "      <td>5.00</td>\n",
       "      <td>6.0</td>\n",
       "      <td>7.00</td>\n",
       "      <td>10.0</td>\n",
       "    </tr>\n",
       "    <tr>\n",
       "      <th>YearBuilt</th>\n",
       "      <td>1416.0</td>\n",
       "      <td>1971.550141</td>\n",
       "      <td>30.055196</td>\n",
       "      <td>1872.0</td>\n",
       "      <td>1954.00</td>\n",
       "      <td>1973.0</td>\n",
       "      <td>2001.00</td>\n",
       "      <td>2010.0</td>\n",
       "    </tr>\n",
       "    <tr>\n",
       "      <th>TotalBsmtSF</th>\n",
       "      <td>1416.0</td>\n",
       "      <td>1056.680791</td>\n",
       "      <td>412.794439</td>\n",
       "      <td>0.0</td>\n",
       "      <td>796.00</td>\n",
       "      <td>993.5</td>\n",
       "      <td>1302.00</td>\n",
       "      <td>3206.0</td>\n",
       "    </tr>\n",
       "    <tr>\n",
       "      <th>GrLivArea</th>\n",
       "      <td>1416.0</td>\n",
       "      <td>1514.504944</td>\n",
       "      <td>509.392098</td>\n",
       "      <td>334.0</td>\n",
       "      <td>1131.75</td>\n",
       "      <td>1467.0</td>\n",
       "      <td>1784.50</td>\n",
       "      <td>4476.0</td>\n",
       "    </tr>\n",
       "    <tr>\n",
       "      <th>FullBath</th>\n",
       "      <td>1416.0</td>\n",
       "      <td>1.564266</td>\n",
       "      <td>0.550073</td>\n",
       "      <td>0.0</td>\n",
       "      <td>1.00</td>\n",
       "      <td>2.0</td>\n",
       "      <td>2.00</td>\n",
       "      <td>3.0</td>\n",
       "    </tr>\n",
       "    <tr>\n",
       "      <th>GarageCars</th>\n",
       "      <td>1416.0</td>\n",
       "      <td>1.762712</td>\n",
       "      <td>0.755789</td>\n",
       "      <td>0.0</td>\n",
       "      <td>1.00</td>\n",
       "      <td>2.0</td>\n",
       "      <td>2.00</td>\n",
       "      <td>4.0</td>\n",
       "    </tr>\n",
       "    <tr>\n",
       "      <th>GarageArea</th>\n",
       "      <td>1416.0</td>\n",
       "      <td>471.659605</td>\n",
       "      <td>214.474979</td>\n",
       "      <td>0.0</td>\n",
       "      <td>323.50</td>\n",
       "      <td>478.0</td>\n",
       "      <td>576.00</td>\n",
       "      <td>1390.0</td>\n",
       "    </tr>\n",
       "    <tr>\n",
       "      <th>SalePrice</th>\n",
       "      <td>1416.0</td>\n",
       "      <td>182103.206921</td>\n",
       "      <td>80025.243732</td>\n",
       "      <td>34900.0</td>\n",
       "      <td>130000.00</td>\n",
       "      <td>164800.0</td>\n",
       "      <td>215000.00</td>\n",
       "      <td>755000.0</td>\n",
       "    </tr>\n",
       "  </tbody>\n",
       "</table>\n",
       "</div>"
      ],
      "text/plain": [
       "              count           mean           std      min        25%  \\\n",
       "Id           1416.0     709.257768    409.474995      1.0     354.75   \n",
       "OverallQual  1416.0       6.108757      1.379110      1.0       5.00   \n",
       "YearBuilt    1416.0    1971.550141     30.055196   1872.0    1954.00   \n",
       "TotalBsmtSF  1416.0    1056.680791    412.794439      0.0     796.00   \n",
       "GrLivArea    1416.0    1514.504944    509.392098    334.0    1131.75   \n",
       "FullBath     1416.0       1.564266      0.550073      0.0       1.00   \n",
       "GarageCars   1416.0       1.762712      0.755789      0.0       1.00   \n",
       "GarageArea   1416.0     471.659605    214.474979      0.0     323.50   \n",
       "SalePrice    1416.0  182103.206921  80025.243732  34900.0  130000.00   \n",
       "\n",
       "                  50%        75%       max  \n",
       "Id              709.5    1063.25    1418.0  \n",
       "OverallQual       6.0       7.00      10.0  \n",
       "YearBuilt      1973.0    2001.00    2010.0  \n",
       "TotalBsmtSF     993.5    1302.00    3206.0  \n",
       "GrLivArea      1467.0    1784.50    4476.0  \n",
       "FullBath          2.0       2.00       3.0  \n",
       "GarageCars        2.0       2.00       4.0  \n",
       "GarageArea      478.0     576.00    1390.0  \n",
       "SalePrice    164800.0  215000.00  755000.0  "
      ]
     },
     "execution_count": 60,
     "metadata": {},
     "output_type": "execute_result"
    }
   ],
   "source": [
    "data.describe().T"
   ]
  },
  {
   "cell_type": "markdown",
   "id": "aa4f65b0",
   "metadata": {},
   "source": [
    "## Feature Selection"
   ]
  },
  {
   "cell_type": "code",
   "execution_count": 61,
   "id": "a6cb5780",
   "metadata": {
    "collapsed": true
   },
   "outputs": [
    {
     "data": {
      "text/html": [
       "<div>\n",
       "<style scoped>\n",
       "    .dataframe tbody tr th:only-of-type {\n",
       "        vertical-align: middle;\n",
       "    }\n",
       "\n",
       "    .dataframe tbody tr th {\n",
       "        vertical-align: top;\n",
       "    }\n",
       "\n",
       "    .dataframe thead th {\n",
       "        text-align: right;\n",
       "    }\n",
       "</style>\n",
       "<table border=\"1\" class=\"dataframe\">\n",
       "  <thead>\n",
       "    <tr style=\"text-align: right;\">\n",
       "      <th></th>\n",
       "      <th>Id</th>\n",
       "      <th>OverallQual</th>\n",
       "      <th>YearBuilt</th>\n",
       "      <th>TotalBsmtSF</th>\n",
       "      <th>Electrical</th>\n",
       "      <th>GrLivArea</th>\n",
       "      <th>FullBath</th>\n",
       "      <th>GarageType</th>\n",
       "      <th>GarageCars</th>\n",
       "      <th>GarageArea</th>\n",
       "      <th>SalePrice</th>\n",
       "    </tr>\n",
       "  </thead>\n",
       "  <tbody>\n",
       "    <tr>\n",
       "      <th>0</th>\n",
       "      <td>1</td>\n",
       "      <td>7</td>\n",
       "      <td>2003</td>\n",
       "      <td>856</td>\n",
       "      <td>SBrkr</td>\n",
       "      <td>1710</td>\n",
       "      <td>2</td>\n",
       "      <td>Attchd</td>\n",
       "      <td>2</td>\n",
       "      <td>548</td>\n",
       "      <td>208500</td>\n",
       "    </tr>\n",
       "    <tr>\n",
       "      <th>1</th>\n",
       "      <td>2</td>\n",
       "      <td>6</td>\n",
       "      <td>1976</td>\n",
       "      <td>1262</td>\n",
       "      <td>SBrkr</td>\n",
       "      <td>1262</td>\n",
       "      <td>2</td>\n",
       "      <td>Attchd</td>\n",
       "      <td>2</td>\n",
       "      <td>460</td>\n",
       "      <td>181500</td>\n",
       "    </tr>\n",
       "    <tr>\n",
       "      <th>2</th>\n",
       "      <td>3</td>\n",
       "      <td>7</td>\n",
       "      <td>2001</td>\n",
       "      <td>920</td>\n",
       "      <td>SBrkr</td>\n",
       "      <td>1786</td>\n",
       "      <td>2</td>\n",
       "      <td>Attchd</td>\n",
       "      <td>2</td>\n",
       "      <td>608</td>\n",
       "      <td>223500</td>\n",
       "    </tr>\n",
       "    <tr>\n",
       "      <th>3</th>\n",
       "      <td>4</td>\n",
       "      <td>7</td>\n",
       "      <td>1915</td>\n",
       "      <td>756</td>\n",
       "      <td>SBrkr</td>\n",
       "      <td>1717</td>\n",
       "      <td>1</td>\n",
       "      <td>Detchd</td>\n",
       "      <td>3</td>\n",
       "      <td>642</td>\n",
       "      <td>140000</td>\n",
       "    </tr>\n",
       "    <tr>\n",
       "      <th>4</th>\n",
       "      <td>5</td>\n",
       "      <td>8</td>\n",
       "      <td>2000</td>\n",
       "      <td>1145</td>\n",
       "      <td>SBrkr</td>\n",
       "      <td>2198</td>\n",
       "      <td>2</td>\n",
       "      <td>Attchd</td>\n",
       "      <td>3</td>\n",
       "      <td>836</td>\n",
       "      <td>250000</td>\n",
       "    </tr>\n",
       "    <tr>\n",
       "      <th>5</th>\n",
       "      <td>6</td>\n",
       "      <td>5</td>\n",
       "      <td>1993</td>\n",
       "      <td>796</td>\n",
       "      <td>SBrkr</td>\n",
       "      <td>1362</td>\n",
       "      <td>1</td>\n",
       "      <td>Attchd</td>\n",
       "      <td>2</td>\n",
       "      <td>480</td>\n",
       "      <td>143000</td>\n",
       "    </tr>\n",
       "    <tr>\n",
       "      <th>6</th>\n",
       "      <td>7</td>\n",
       "      <td>8</td>\n",
       "      <td>2004</td>\n",
       "      <td>1686</td>\n",
       "      <td>SBrkr</td>\n",
       "      <td>1694</td>\n",
       "      <td>2</td>\n",
       "      <td>Attchd</td>\n",
       "      <td>2</td>\n",
       "      <td>636</td>\n",
       "      <td>307000</td>\n",
       "    </tr>\n",
       "    <tr>\n",
       "      <th>7</th>\n",
       "      <td>8</td>\n",
       "      <td>7</td>\n",
       "      <td>1973</td>\n",
       "      <td>1107</td>\n",
       "      <td>SBrkr</td>\n",
       "      <td>2090</td>\n",
       "      <td>2</td>\n",
       "      <td>Attchd</td>\n",
       "      <td>2</td>\n",
       "      <td>484</td>\n",
       "      <td>200000</td>\n",
       "    </tr>\n",
       "    <tr>\n",
       "      <th>8</th>\n",
       "      <td>9</td>\n",
       "      <td>5</td>\n",
       "      <td>1939</td>\n",
       "      <td>991</td>\n",
       "      <td>SBrkr</td>\n",
       "      <td>1077</td>\n",
       "      <td>1</td>\n",
       "      <td>Detchd</td>\n",
       "      <td>1</td>\n",
       "      <td>205</td>\n",
       "      <td>118000</td>\n",
       "    </tr>\n",
       "    <tr>\n",
       "      <th>9</th>\n",
       "      <td>10</td>\n",
       "      <td>5</td>\n",
       "      <td>1965</td>\n",
       "      <td>1040</td>\n",
       "      <td>SBrkr</td>\n",
       "      <td>1040</td>\n",
       "      <td>1</td>\n",
       "      <td>Detchd</td>\n",
       "      <td>1</td>\n",
       "      <td>384</td>\n",
       "      <td>129500</td>\n",
       "    </tr>\n",
       "  </tbody>\n",
       "</table>\n",
       "</div>"
      ],
      "text/plain": [
       "   Id  OverallQual  YearBuilt  TotalBsmtSF Electrical  GrLivArea  FullBath  \\\n",
       "0   1            7       2003          856      SBrkr       1710         2   \n",
       "1   2            6       1976         1262      SBrkr       1262         2   \n",
       "2   3            7       2001          920      SBrkr       1786         2   \n",
       "3   4            7       1915          756      SBrkr       1717         1   \n",
       "4   5            8       2000         1145      SBrkr       2198         2   \n",
       "5   6            5       1993          796      SBrkr       1362         1   \n",
       "6   7            8       2004         1686      SBrkr       1694         2   \n",
       "7   8            7       1973         1107      SBrkr       2090         2   \n",
       "8   9            5       1939          991      SBrkr       1077         1   \n",
       "9  10            5       1965         1040      SBrkr       1040         1   \n",
       "\n",
       "  GarageType  GarageCars  GarageArea  SalePrice  \n",
       "0     Attchd           2         548     208500  \n",
       "1     Attchd           2         460     181500  \n",
       "2     Attchd           2         608     223500  \n",
       "3     Detchd           3         642     140000  \n",
       "4     Attchd           3         836     250000  \n",
       "5     Attchd           2         480     143000  \n",
       "6     Attchd           2         636     307000  \n",
       "7     Attchd           2         484     200000  \n",
       "8     Detchd           1         205     118000  \n",
       "9     Detchd           1         384     129500  "
      ]
     },
     "execution_count": 61,
     "metadata": {},
     "output_type": "execute_result"
    }
   ],
   "source": [
    "data.head(10)"
   ]
  },
  {
   "cell_type": "code",
   "execution_count": 62,
   "id": "f60f3940",
   "metadata": {},
   "outputs": [],
   "source": [
    "# We need to drop GarageCars as there is multicolinearity between garage cars and garage area\n",
    "data.drop(columns=['Id','GarageCars'],inplace=True)"
   ]
  },
  {
   "cell_type": "code",
   "execution_count": 63,
   "id": "1de51404",
   "metadata": {
    "collapsed": true
   },
   "outputs": [
    {
     "data": {
      "image/png": "[encoded data removed]",
      "text/plain": [
       "<Figure size 720x504 with 2 Axes>"
      ]
     },
     "metadata": {
      "needs_background": "light"
     },
     "output_type": "display_data"
    }
   ],
   "source": [
    "plt.figure(figsize=(10,7))\n",
    "sns.heatmap(data.corr(),annot=True, vmax=1,vmin=-1, cmap='RdBu')\n",
    "plt.show()"
   ]
  },
  {
   "cell_type": "markdown",
   "id": "9bf96090",
   "metadata": {},
   "source": [
    "## Feature Engineering"
   ]
  },
  {
   "cell_type": "code",
   "execution_count": 64,
   "id": "96a237dd",
   "metadata": {},
   "outputs": [
    {
     "data": {
      "text/html": [
       "<div>\n",
       "<style scoped>\n",
       "    .dataframe tbody tr th:only-of-type {\n",
       "        vertical-align: middle;\n",
       "    }\n",
       "\n",
       "    .dataframe tbody tr th {\n",
       "        vertical-align: top;\n",
       "    }\n",
       "\n",
       "    .dataframe thead th {\n",
       "        text-align: right;\n",
       "    }\n",
       "</style>\n",
       "<table border=\"1\" class=\"dataframe\">\n",
       "  <thead>\n",
       "    <tr style=\"text-align: right;\">\n",
       "      <th></th>\n",
       "      <th>OverallQual</th>\n",
       "      <th>YearBuilt</th>\n",
       "      <th>TotalBsmtSF</th>\n",
       "      <th>Electrical</th>\n",
       "      <th>GrLivArea</th>\n",
       "      <th>FullBath</th>\n",
       "      <th>GarageType</th>\n",
       "      <th>GarageArea</th>\n",
       "      <th>SalePrice</th>\n",
       "    </tr>\n",
       "  </thead>\n",
       "  <tbody>\n",
       "    <tr>\n",
       "      <th>0</th>\n",
       "      <td>7</td>\n",
       "      <td>2003</td>\n",
       "      <td>856</td>\n",
       "      <td>SBrkr</td>\n",
       "      <td>1710</td>\n",
       "      <td>2</td>\n",
       "      <td>Attchd</td>\n",
       "      <td>548</td>\n",
       "      <td>208500</td>\n",
       "    </tr>\n",
       "    <tr>\n",
       "      <th>1</th>\n",
       "      <td>6</td>\n",
       "      <td>1976</td>\n",
       "      <td>1262</td>\n",
       "      <td>SBrkr</td>\n",
       "      <td>1262</td>\n",
       "      <td>2</td>\n",
       "      <td>Attchd</td>\n",
       "      <td>460</td>\n",
       "      <td>181500</td>\n",
       "    </tr>\n",
       "    <tr>\n",
       "      <th>2</th>\n",
       "      <td>7</td>\n",
       "      <td>2001</td>\n",
       "      <td>920</td>\n",
       "      <td>SBrkr</td>\n",
       "      <td>1786</td>\n",
       "      <td>2</td>\n",
       "      <td>Attchd</td>\n",
       "      <td>608</td>\n",
       "      <td>223500</td>\n",
       "    </tr>\n",
       "    <tr>\n",
       "      <th>3</th>\n",
       "      <td>7</td>\n",
       "      <td>1915</td>\n",
       "      <td>756</td>\n",
       "      <td>SBrkr</td>\n",
       "      <td>1717</td>\n",
       "      <td>1</td>\n",
       "      <td>Detchd</td>\n",
       "      <td>642</td>\n",
       "      <td>140000</td>\n",
       "    </tr>\n",
       "    <tr>\n",
       "      <th>4</th>\n",
       "      <td>8</td>\n",
       "      <td>2000</td>\n",
       "      <td>1145</td>\n",
       "      <td>SBrkr</td>\n",
       "      <td>2198</td>\n",
       "      <td>2</td>\n",
       "      <td>Attchd</td>\n",
       "      <td>836</td>\n",
       "      <td>250000</td>\n",
       "    </tr>\n",
       "    <tr>\n",
       "      <th>5</th>\n",
       "      <td>5</td>\n",
       "      <td>1993</td>\n",
       "      <td>796</td>\n",
       "      <td>SBrkr</td>\n",
       "      <td>1362</td>\n",
       "      <td>1</td>\n",
       "      <td>Attchd</td>\n",
       "      <td>480</td>\n",
       "      <td>143000</td>\n",
       "    </tr>\n",
       "    <tr>\n",
       "      <th>6</th>\n",
       "      <td>8</td>\n",
       "      <td>2004</td>\n",
       "      <td>1686</td>\n",
       "      <td>SBrkr</td>\n",
       "      <td>1694</td>\n",
       "      <td>2</td>\n",
       "      <td>Attchd</td>\n",
       "      <td>636</td>\n",
       "      <td>307000</td>\n",
       "    </tr>\n",
       "    <tr>\n",
       "      <th>7</th>\n",
       "      <td>7</td>\n",
       "      <td>1973</td>\n",
       "      <td>1107</td>\n",
       "      <td>SBrkr</td>\n",
       "      <td>2090</td>\n",
       "      <td>2</td>\n",
       "      <td>Attchd</td>\n",
       "      <td>484</td>\n",
       "      <td>200000</td>\n",
       "    </tr>\n",
       "    <tr>\n",
       "      <th>8</th>\n",
       "      <td>5</td>\n",
       "      <td>1939</td>\n",
       "      <td>991</td>\n",
       "      <td>SBrkr</td>\n",
       "      <td>1077</td>\n",
       "      <td>1</td>\n",
       "      <td>Detchd</td>\n",
       "      <td>205</td>\n",
       "      <td>118000</td>\n",
       "    </tr>\n",
       "    <tr>\n",
       "      <th>9</th>\n",
       "      <td>5</td>\n",
       "      <td>1965</td>\n",
       "      <td>1040</td>\n",
       "      <td>SBrkr</td>\n",
       "      <td>1040</td>\n",
       "      <td>1</td>\n",
       "      <td>Detchd</td>\n",
       "      <td>384</td>\n",
       "      <td>129500</td>\n",
       "    </tr>\n",
       "  </tbody>\n",
       "</table>\n",
       "</div>"
      ],
      "text/plain": [
       "   OverallQual  YearBuilt  TotalBsmtSF Electrical  GrLivArea  FullBath  \\\n",
       "0            7       2003          856      SBrkr       1710         2   \n",
       "1            6       1976         1262      SBrkr       1262         2   \n",
       "2            7       2001          920      SBrkr       1786         2   \n",
       "3            7       1915          756      SBrkr       1717         1   \n",
       "4            8       2000         1145      SBrkr       2198         2   \n",
       "5            5       1993          796      SBrkr       1362         1   \n",
       "6            8       2004         1686      SBrkr       1694         2   \n",
       "7            7       1973         1107      SBrkr       2090         2   \n",
       "8            5       1939          991      SBrkr       1077         1   \n",
       "9            5       1965         1040      SBrkr       1040         1   \n",
       "\n",
       "  GarageType  GarageArea  SalePrice  \n",
       "0     Attchd         548     208500  \n",
       "1     Attchd         460     181500  \n",
       "2     Attchd         608     223500  \n",
       "3     Detchd         642     140000  \n",
       "4     Attchd         836     250000  \n",
       "5     Attchd         480     143000  \n",
       "6     Attchd         636     307000  \n",
       "7     Attchd         484     200000  \n",
       "8     Detchd         205     118000  \n",
       "9     Detchd         384     129500  "
      ]
     },
     "execution_count": 64,
     "metadata": {},
     "output_type": "execute_result"
    }
   ],
   "source": [
    "data.head(10)"
   ]
  },
  {
   "cell_type": "code",
   "execution_count": 65,
   "id": "173fe0b1",
   "metadata": {},
   "outputs": [],
   "source": [
    "data = pd.get_dummies(data)"
   ]
  },
  {
   "cell_type": "code",
   "execution_count": 66,
   "id": "7687c4cb",
   "metadata": {},
   "outputs": [
    {
     "data": {
      "text/html": [
       "<div>\n",
       "<style scoped>\n",
       "    .dataframe tbody tr th:only-of-type {\n",
       "        vertical-align: middle;\n",
       "    }\n",
       "\n",
       "    .dataframe tbody tr th {\n",
       "        vertical-align: top;\n",
       "    }\n",
       "\n",
       "    .dataframe thead th {\n",
       "        text-align: right;\n",
       "    }\n",
       "</style>\n",
       "<table border=\"1\" class=\"dataframe\">\n",
       "  <thead>\n",
       "    <tr style=\"text-align: right;\">\n",
       "      <th></th>\n",
       "      <th>OverallQual</th>\n",
       "      <th>YearBuilt</th>\n",
       "      <th>TotalBsmtSF</th>\n",
       "      <th>GrLivArea</th>\n",
       "      <th>FullBath</th>\n",
       "      <th>GarageArea</th>\n",
       "      <th>SalePrice</th>\n",
       "      <th>Electrical_FuseA</th>\n",
       "      <th>Electrical_FuseF</th>\n",
       "      <th>Electrical_FuseP</th>\n",
       "      <th>Electrical_Mix</th>\n",
       "      <th>Electrical_SBrkr</th>\n",
       "      <th>GarageType_2Types</th>\n",
       "      <th>GarageType_Attchd</th>\n",
       "      <th>GarageType_Basment</th>\n",
       "      <th>GarageType_BuiltIn</th>\n",
       "      <th>GarageType_CarPort</th>\n",
       "      <th>GarageType_Detchd</th>\n",
       "      <th>GarageType_NoGarage</th>\n",
       "    </tr>\n",
       "  </thead>\n",
       "  <tbody>\n",
       "    <tr>\n",
       "      <th>0</th>\n",
       "      <td>7</td>\n",
       "      <td>2003</td>\n",
       "      <td>856</td>\n",
       "      <td>1710</td>\n",
       "      <td>2</td>\n",
       "      <td>548</td>\n",
       "      <td>208500</td>\n",
       "      <td>0</td>\n",
       "      <td>0</td>\n",
       "      <td>0</td>\n",
       "      <td>0</td>\n",
       "      <td>1</td>\n",
       "      <td>0</td>\n",
       "      <td>1</td>\n",
       "      <td>0</td>\n",
       "      <td>0</td>\n",
       "      <td>0</td>\n",
       "      <td>0</td>\n",
       "      <td>0</td>\n",
       "    </tr>\n",
       "    <tr>\n",
       "      <th>1</th>\n",
       "      <td>6</td>\n",
       "      <td>1976</td>\n",
       "      <td>1262</td>\n",
       "      <td>1262</td>\n",
       "      <td>2</td>\n",
       "      <td>460</td>\n",
       "      <td>181500</td>\n",
       "      <td>0</td>\n",
       "      <td>0</td>\n",
       "      <td>0</td>\n",
       "      <td>0</td>\n",
       "      <td>1</td>\n",
       "      <td>0</td>\n",
       "      <td>1</td>\n",
       "      <td>0</td>\n",
       "      <td>0</td>\n",
       "      <td>0</td>\n",
       "      <td>0</td>\n",
       "      <td>0</td>\n",
       "    </tr>\n",
       "    <tr>\n",
       "      <th>2</th>\n",
       "      <td>7</td>\n",
       "      <td>2001</td>\n",
       "      <td>920</td>\n",
       "      <td>1786</td>\n",
       "      <td>2</td>\n",
       "      <td>608</td>\n",
       "      <td>223500</td>\n",
       "      <td>0</td>\n",
       "      <td>0</td>\n",
       "      <td>0</td>\n",
       "      <td>0</td>\n",
       "      <td>1</td>\n",
       "      <td>0</td>\n",
       "      <td>1</td>\n",
       "      <td>0</td>\n",
       "      <td>0</td>\n",
       "      <td>0</td>\n",
       "      <td>0</td>\n",
       "      <td>0</td>\n",
       "    </tr>\n",
       "    <tr>\n",
       "      <th>3</th>\n",
       "      <td>7</td>\n",
       "      <td>1915</td>\n",
       "      <td>756</td>\n",
       "      <td>1717</td>\n",
       "      <td>1</td>\n",
       "      <td>642</td>\n",
       "      <td>140000</td>\n",
       "      <td>0</td>\n",
       "      <td>0</td>\n",
       "      <td>0</td>\n",
       "      <td>0</td>\n",
       "      <td>1</td>\n",
       "      <td>0</td>\n",
       "      <td>0</td>\n",
       "      <td>0</td>\n",
       "      <td>0</td>\n",
       "      <td>0</td>\n",
       "      <td>1</td>\n",
       "      <td>0</td>\n",
       "    </tr>\n",
       "    <tr>\n",
       "      <th>4</th>\n",
       "      <td>8</td>\n",
       "      <td>2000</td>\n",
       "      <td>1145</td>\n",
       "      <td>2198</td>\n",
       "      <td>2</td>\n",
       "      <td>836</td>\n",
       "      <td>250000</td>\n",
       "      <td>0</td>\n",
       "      <td>0</td>\n",
       "      <td>0</td>\n",
       "      <td>0</td>\n",
       "      <td>1</td>\n",
       "      <td>0</td>\n",
       "      <td>1</td>\n",
       "      <td>0</td>\n",
       "      <td>0</td>\n",
       "      <td>0</td>\n",
       "      <td>0</td>\n",
       "      <td>0</td>\n",
       "    </tr>\n",
       "    <tr>\n",
       "      <th>5</th>\n",
       "      <td>5</td>\n",
       "      <td>1993</td>\n",
       "      <td>796</td>\n",
       "      <td>1362</td>\n",
       "      <td>1</td>\n",
       "      <td>480</td>\n",
       "      <td>143000</td>\n",
       "      <td>0</td>\n",
       "      <td>0</td>\n",
       "      <td>0</td>\n",
       "      <td>0</td>\n",
       "      <td>1</td>\n",
       "      <td>0</td>\n",
       "      <td>1</td>\n",
       "      <td>0</td>\n",
       "      <td>0</td>\n",
       "      <td>0</td>\n",
       "      <td>0</td>\n",
       "      <td>0</td>\n",
       "    </tr>\n",
       "    <tr>\n",
       "      <th>6</th>\n",
       "      <td>8</td>\n",
       "      <td>2004</td>\n",
       "      <td>1686</td>\n",
       "      <td>1694</td>\n",
       "      <td>2</td>\n",
       "      <td>636</td>\n",
       "      <td>307000</td>\n",
       "      <td>0</td>\n",
       "      <td>0</td>\n",
       "      <td>0</td>\n",
       "      <td>0</td>\n",
       "      <td>1</td>\n",
       "      <td>0</td>\n",
       "      <td>1</td>\n",
       "      <td>0</td>\n",
       "      <td>0</td>\n",
       "      <td>0</td>\n",
       "      <td>0</td>\n",
       "      <td>0</td>\n",
       "    </tr>\n",
       "    <tr>\n",
       "      <th>7</th>\n",
       "      <td>7</td>\n",
       "      <td>1973</td>\n",
       "      <td>1107</td>\n",
       "      <td>2090</td>\n",
       "      <td>2</td>\n",
       "      <td>484</td>\n",
       "      <td>200000</td>\n",
       "      <td>0</td>\n",
       "      <td>0</td>\n",
       "      <td>0</td>\n",
       "      <td>0</td>\n",
       "      <td>1</td>\n",
       "      <td>0</td>\n",
       "      <td>1</td>\n",
       "      <td>0</td>\n",
       "      <td>0</td>\n",
       "      <td>0</td>\n",
       "      <td>0</td>\n",
       "      <td>0</td>\n",
       "    </tr>\n",
       "    <tr>\n",
       "      <th>8</th>\n",
       "      <td>5</td>\n",
       "      <td>1939</td>\n",
       "      <td>991</td>\n",
       "      <td>1077</td>\n",
       "      <td>1</td>\n",
       "      <td>205</td>\n",
       "      <td>118000</td>\n",
       "      <td>0</td>\n",
       "      <td>0</td>\n",
       "      <td>0</td>\n",
       "      <td>0</td>\n",
       "      <td>1</td>\n",
       "      <td>0</td>\n",
       "      <td>0</td>\n",
       "      <td>0</td>\n",
       "      <td>0</td>\n",
       "      <td>0</td>\n",
       "      <td>1</td>\n",
       "      <td>0</td>\n",
       "    </tr>\n",
       "    <tr>\n",
       "      <th>9</th>\n",
       "      <td>5</td>\n",
       "      <td>1965</td>\n",
       "      <td>1040</td>\n",
       "      <td>1040</td>\n",
       "      <td>1</td>\n",
       "      <td>384</td>\n",
       "      <td>129500</td>\n",
       "      <td>0</td>\n",
       "      <td>0</td>\n",
       "      <td>0</td>\n",
       "      <td>0</td>\n",
       "      <td>1</td>\n",
       "      <td>0</td>\n",
       "      <td>0</td>\n",
       "      <td>0</td>\n",
       "      <td>0</td>\n",
       "      <td>0</td>\n",
       "      <td>1</td>\n",
       "      <td>0</td>\n",
       "    </tr>\n",
       "  </tbody>\n",
       "</table>\n",
       "</div>"
      ],
      "text/plain": [
       "   OverallQual  YearBuilt  TotalBsmtSF  GrLivArea  FullBath  GarageArea  \\\n",
       "0            7       2003          856       1710         2         548   \n",
       "1            6       1976         1262       1262         2         460   \n",
       "2            7       2001          920       1786         2         608   \n",
       "3            7       1915          756       1717         1         642   \n",
       "4            8       2000         1145       2198         2         836   \n",
       "5            5       1993          796       1362         1         480   \n",
       "6            8       2004         1686       1694         2         636   \n",
       "7            7       1973         1107       2090         2         484   \n",
       "8            5       1939          991       1077         1         205   \n",
       "9            5       1965         1040       1040         1         384   \n",
       "\n",
       "   SalePrice  Electrical_FuseA  Electrical_FuseF  Electrical_FuseP  \\\n",
       "0     208500                 0                 0                 0   \n",
       "1     181500                 0                 0                 0   \n",
       "2     223500                 0                 0                 0   \n",
       "3     140000                 0                 0                 0   \n",
       "4     250000                 0                 0                 0   \n",
       "5     143000                 0                 0                 0   \n",
       "6     307000                 0                 0                 0   \n",
       "7     200000                 0                 0                 0   \n",
       "8     118000                 0                 0                 0   \n",
       "9     129500                 0                 0                 0   \n",
       "\n",
       "   Electrical_Mix  Electrical_SBrkr  GarageType_2Types  GarageType_Attchd  \\\n",
       "0               0                 1                  0                  1   \n",
       "1               0                 1                  0                  1   \n",
       "2               0                 1                  0                  1   \n",
       "3               0                 1                  0                  0   \n",
       "4               0                 1                  0                  1   \n",
       "5               0                 1                  0                  1   \n",
       "6               0                 1                  0                  1   \n",
       "7               0                 1                  0                  1   \n",
       "8               0                 1                  0                  0   \n",
       "9               0                 1                  0                  0   \n",
       "\n",
       "   GarageType_Basment  GarageType_BuiltIn  GarageType_CarPort  \\\n",
       "0                   0                   0                   0   \n",
       "1                   0                   0                   0   \n",
       "2                   0                   0                   0   \n",
       "3                   0                   0                   0   \n",
       "4                   0                   0                   0   \n",
       "5                   0                   0                   0   \n",
       "6                   0                   0                   0   \n",
       "7                   0                   0                   0   \n",
       "8                   0                   0                   0   \n",
       "9                   0                   0                   0   \n",
       "\n",
       "   GarageType_Detchd  GarageType_NoGarage  \n",
       "0                  0                    0  \n",
       "1                  0                    0  \n",
       "2                  0                    0  \n",
       "3                  1                    0  \n",
       "4                  0                    0  \n",
       "5                  0                    0  \n",
       "6                  0                    0  \n",
       "7                  0                    0  \n",
       "8                  1                    0  \n",
       "9                  1                    0  "
      ]
     },
     "execution_count": 66,
     "metadata": {},
     "output_type": "execute_result"
    }
   ],
   "source": [
    "data.head(10)"
   ]
  },
  {
   "cell_type": "code",
   "execution_count": 67,
   "id": "58227232",
   "metadata": {},
   "outputs": [
    {
     "name": "stdout",
     "output_type": "stream",
     "text": [
      "<class 'pandas.core.frame.DataFrame'>\n",
      "Int64Index: 1416 entries, 0 to 1417\n",
      "Data columns (total 19 columns):\n",
      " #   Column               Non-Null Count  Dtype\n",
      "---  ------               --------------  -----\n",
      " 0   OverallQual          1416 non-null   int64\n",
      " 1   YearBuilt            1416 non-null   int64\n",
      " 2   TotalBsmtSF          1416 non-null   int64\n",
      " 3   GrLivArea            1416 non-null   int64\n",
      " 4   FullBath             1416 non-null   int64\n",
      " 5   GarageArea           1416 non-null   int64\n",
      " 6   SalePrice            1416 non-null   int64\n",
      " 7   Electrical_FuseA     1416 non-null   uint8\n",
      " 8   Electrical_FuseF     1416 non-null   uint8\n",
      " 9   Electrical_FuseP     1416 non-null   uint8\n",
      " 10  Electrical_Mix       1416 non-null   uint8\n",
      " 11  Electrical_SBrkr     1416 non-null   uint8\n",
      " 12  GarageType_2Types    1416 non-null   uint8\n",
      " 13  GarageType_Attchd    1416 non-null   uint8\n",
      " 14  GarageType_Basment   1416 non-null   uint8\n",
      " 15  GarageType_BuiltIn   1416 non-null   uint8\n",
      " 16  GarageType_CarPort   1416 non-null   uint8\n",
      " 17  GarageType_Detchd    1416 non-null   uint8\n",
      " 18  GarageType_NoGarage  1416 non-null   uint8\n",
      "dtypes: int64(7), uint8(12)\n",
      "memory usage: 105.1 KB\n"
     ]
    }
   ],
   "source": [
    "data.info()"
   ]
  },
  {
   "cell_type": "markdown",
   "id": "df695844",
   "metadata": {},
   "source": [
    "## Feature Scaling"
   ]
  },
  {
   "cell_type": "code",
   "execution_count": 68,
   "id": "1660ffd1",
   "metadata": {},
   "outputs": [],
   "source": [
    "from sklearn.preprocessing import StandardScaler"
   ]
  },
  {
   "cell_type": "code",
   "execution_count": 69,
   "id": "e957b55a",
   "metadata": {},
   "outputs": [],
   "source": [
    "sc = StandardScaler()"
   ]
  },
  {
   "cell_type": "code",
   "execution_count": 70,
   "id": "10eeb269",
   "metadata": {},
   "outputs": [],
   "source": [
    "data_s = sc.fit_transform(data)"
   ]
  },
  {
   "cell_type": "code",
   "execution_count": 71,
   "id": "e3dcbcaa",
   "metadata": {
    "collapsed": true
   },
   "outputs": [
    {
     "data": {
      "text/plain": [
       "array([[ 0.6464733 ,  1.04677308, -0.48632363, ..., -0.07997868,\n",
       "        -0.64498062, -0.24632125],\n",
       "       [-0.07888818,  0.14810853,  0.49756423, ..., -0.07997868,\n",
       "        -0.64498062, -0.24632125],\n",
       "       [ 0.6464733 ,  0.98020533, -0.33122801, ..., -0.07997868,\n",
       "        -0.64498062, -0.24632125],\n",
       "       ...,\n",
       "       [ 0.6464733 , -1.01682699,  0.23099363, ..., -0.07997868,\n",
       "        -0.64498062, -0.24632125],\n",
       "       [-0.80424967, -0.71727214,  0.05166431, ..., -0.07997868,\n",
       "         1.55043418, -0.24632125],\n",
       "       [-0.80424967, -0.21801406,  0.48302401, ..., -0.07997868,\n",
       "        -0.64498062, -0.24632125]])"
      ]
     },
     "execution_count": 71,
     "metadata": {},
     "output_type": "execute_result"
    }
   ],
   "source": [
    "data_s"
   ]
  },
  {
   "cell_type": "code",
   "execution_count": 72,
   "id": "9cf1fba3",
   "metadata": {},
   "outputs": [],
   "source": [
    "data_s = pd.DataFrame(data_s,columns=data.columns)"
   ]
  },
  {
   "cell_type": "code",
   "execution_count": 73,
   "id": "b13d977b",
   "metadata": {
    "collapsed": true
   },
   "outputs": [
    {
     "data": {
      "text/html": [
       "<div>\n",
       "<style scoped>\n",
       "    .dataframe tbody tr th:only-of-type {\n",
       "        vertical-align: middle;\n",
       "    }\n",
       "\n",
       "    .dataframe tbody tr th {\n",
       "        vertical-align: top;\n",
       "    }\n",
       "\n",
       "    .dataframe thead th {\n",
       "        text-align: right;\n",
       "    }\n",
       "</style>\n",
       "<table border=\"1\" class=\"dataframe\">\n",
       "  <thead>\n",
       "    <tr style=\"text-align: right;\">\n",
       "      <th></th>\n",
       "      <th>OverallQual</th>\n",
       "      <th>YearBuilt</th>\n",
       "      <th>TotalBsmtSF</th>\n",
       "      <th>GrLivArea</th>\n",
       "      <th>FullBath</th>\n",
       "      <th>GarageArea</th>\n",
       "      <th>SalePrice</th>\n",
       "      <th>Electrical_FuseA</th>\n",
       "      <th>Electrical_FuseF</th>\n",
       "      <th>Electrical_FuseP</th>\n",
       "      <th>Electrical_Mix</th>\n",
       "      <th>Electrical_SBrkr</th>\n",
       "      <th>GarageType_2Types</th>\n",
       "      <th>GarageType_Attchd</th>\n",
       "      <th>GarageType_Basment</th>\n",
       "      <th>GarageType_BuiltIn</th>\n",
       "      <th>GarageType_CarPort</th>\n",
       "      <th>GarageType_Detchd</th>\n",
       "      <th>GarageType_NoGarage</th>\n",
       "    </tr>\n",
       "  </thead>\n",
       "  <tbody>\n",
       "    <tr>\n",
       "      <th>0</th>\n",
       "      <td>0.646473</td>\n",
       "      <td>1.046773</td>\n",
       "      <td>-0.486324</td>\n",
       "      <td>0.383917</td>\n",
       "      <td>0.792419</td>\n",
       "      <td>0.356067</td>\n",
       "      <td>0.329972</td>\n",
       "      <td>-0.258976</td>\n",
       "      <td>-0.131306</td>\n",
       "      <td>-0.046078</td>\n",
       "      <td>-0.026584</td>\n",
       "      <td>0.300115</td>\n",
       "      <td>-0.065233</td>\n",
       "      <td>0.878758</td>\n",
       "      <td>-0.116621</td>\n",
       "      <td>-0.254287</td>\n",
       "      <td>-0.079979</td>\n",
       "      <td>-0.644981</td>\n",
       "      <td>-0.246321</td>\n",
       "    </tr>\n",
       "    <tr>\n",
       "      <th>1</th>\n",
       "      <td>-0.078888</td>\n",
       "      <td>0.148109</td>\n",
       "      <td>0.497564</td>\n",
       "      <td>-0.495874</td>\n",
       "      <td>0.792419</td>\n",
       "      <td>-0.054383</td>\n",
       "      <td>-0.007540</td>\n",
       "      <td>-0.258976</td>\n",
       "      <td>-0.131306</td>\n",
       "      <td>-0.046078</td>\n",
       "      <td>-0.026584</td>\n",
       "      <td>0.300115</td>\n",
       "      <td>-0.065233</td>\n",
       "      <td>0.878758</td>\n",
       "      <td>-0.116621</td>\n",
       "      <td>-0.254287</td>\n",
       "      <td>-0.079979</td>\n",
       "      <td>-0.644981</td>\n",
       "      <td>-0.246321</td>\n",
       "    </tr>\n",
       "    <tr>\n",
       "      <th>2</th>\n",
       "      <td>0.646473</td>\n",
       "      <td>0.980205</td>\n",
       "      <td>-0.331228</td>\n",
       "      <td>0.533167</td>\n",
       "      <td>0.792419</td>\n",
       "      <td>0.635918</td>\n",
       "      <td>0.517479</td>\n",
       "      <td>-0.258976</td>\n",
       "      <td>-0.131306</td>\n",
       "      <td>-0.046078</td>\n",
       "      <td>-0.026584</td>\n",
       "      <td>0.300115</td>\n",
       "      <td>-0.065233</td>\n",
       "      <td>0.878758</td>\n",
       "      <td>-0.116621</td>\n",
       "      <td>-0.254287</td>\n",
       "      <td>-0.079979</td>\n",
       "      <td>-0.644981</td>\n",
       "      <td>-0.246321</td>\n",
       "    </tr>\n",
       "    <tr>\n",
       "      <th>3</th>\n",
       "      <td>0.646473</td>\n",
       "      <td>-1.882208</td>\n",
       "      <td>-0.728661</td>\n",
       "      <td>0.397663</td>\n",
       "      <td>-1.026163</td>\n",
       "      <td>0.794501</td>\n",
       "      <td>-0.526310</td>\n",
       "      <td>-0.258976</td>\n",
       "      <td>-0.131306</td>\n",
       "      <td>-0.046078</td>\n",
       "      <td>-0.026584</td>\n",
       "      <td>0.300115</td>\n",
       "      <td>-0.065233</td>\n",
       "      <td>-1.137970</td>\n",
       "      <td>-0.116621</td>\n",
       "      <td>-0.254287</td>\n",
       "      <td>-0.079979</td>\n",
       "      <td>1.550434</td>\n",
       "      <td>-0.246321</td>\n",
       "    </tr>\n",
       "    <tr>\n",
       "      <th>4</th>\n",
       "      <td>1.371835</td>\n",
       "      <td>0.946921</td>\n",
       "      <td>0.214030</td>\n",
       "      <td>1.342260</td>\n",
       "      <td>0.792419</td>\n",
       "      <td>1.699355</td>\n",
       "      <td>0.848742</td>\n",
       "      <td>-0.258976</td>\n",
       "      <td>-0.131306</td>\n",
       "      <td>-0.046078</td>\n",
       "      <td>-0.026584</td>\n",
       "      <td>0.300115</td>\n",
       "      <td>-0.065233</td>\n",
       "      <td>0.878758</td>\n",
       "      <td>-0.116621</td>\n",
       "      <td>-0.254287</td>\n",
       "      <td>-0.079979</td>\n",
       "      <td>-0.644981</td>\n",
       "      <td>-0.246321</td>\n",
       "    </tr>\n",
       "    <tr>\n",
       "      <th>5</th>\n",
       "      <td>-0.804250</td>\n",
       "      <td>0.713934</td>\n",
       "      <td>-0.631726</td>\n",
       "      <td>-0.299492</td>\n",
       "      <td>-1.026163</td>\n",
       "      <td>0.038901</td>\n",
       "      <td>-0.488809</td>\n",
       "      <td>-0.258976</td>\n",
       "      <td>-0.131306</td>\n",
       "      <td>-0.046078</td>\n",
       "      <td>-0.026584</td>\n",
       "      <td>0.300115</td>\n",
       "      <td>-0.065233</td>\n",
       "      <td>0.878758</td>\n",
       "      <td>-0.116621</td>\n",
       "      <td>-0.254287</td>\n",
       "      <td>-0.079979</td>\n",
       "      <td>-0.644981</td>\n",
       "      <td>-0.246321</td>\n",
       "    </tr>\n",
       "    <tr>\n",
       "      <th>6</th>\n",
       "      <td>1.371835</td>\n",
       "      <td>1.080057</td>\n",
       "      <td>1.525073</td>\n",
       "      <td>0.352496</td>\n",
       "      <td>0.792419</td>\n",
       "      <td>0.766516</td>\n",
       "      <td>1.561269</td>\n",
       "      <td>-0.258976</td>\n",
       "      <td>-0.131306</td>\n",
       "      <td>-0.046078</td>\n",
       "      <td>-0.026584</td>\n",
       "      <td>0.300115</td>\n",
       "      <td>-0.065233</td>\n",
       "      <td>0.878758</td>\n",
       "      <td>-0.116621</td>\n",
       "      <td>-0.254287</td>\n",
       "      <td>-0.079979</td>\n",
       "      <td>-0.644981</td>\n",
       "      <td>-0.246321</td>\n",
       "    </tr>\n",
       "    <tr>\n",
       "      <th>7</th>\n",
       "      <td>0.646473</td>\n",
       "      <td>0.048257</td>\n",
       "      <td>0.121942</td>\n",
       "      <td>1.130167</td>\n",
       "      <td>0.792419</td>\n",
       "      <td>0.057558</td>\n",
       "      <td>0.223718</td>\n",
       "      <td>-0.258976</td>\n",
       "      <td>-0.131306</td>\n",
       "      <td>-0.046078</td>\n",
       "      <td>-0.026584</td>\n",
       "      <td>0.300115</td>\n",
       "      <td>-0.065233</td>\n",
       "      <td>0.878758</td>\n",
       "      <td>-0.116621</td>\n",
       "      <td>-0.254287</td>\n",
       "      <td>-0.079979</td>\n",
       "      <td>-0.644981</td>\n",
       "      <td>-0.246321</td>\n",
       "    </tr>\n",
       "    <tr>\n",
       "      <th>8</th>\n",
       "      <td>-0.804250</td>\n",
       "      <td>-1.083395</td>\n",
       "      <td>-0.159169</td>\n",
       "      <td>-0.859180</td>\n",
       "      <td>-1.026163</td>\n",
       "      <td>-1.243753</td>\n",
       "      <td>-0.801320</td>\n",
       "      <td>-0.258976</td>\n",
       "      <td>-0.131306</td>\n",
       "      <td>-0.046078</td>\n",
       "      <td>-0.026584</td>\n",
       "      <td>0.300115</td>\n",
       "      <td>-0.065233</td>\n",
       "      <td>-1.137970</td>\n",
       "      <td>-0.116621</td>\n",
       "      <td>-0.254287</td>\n",
       "      <td>-0.079979</td>\n",
       "      <td>1.550434</td>\n",
       "      <td>-0.246321</td>\n",
       "    </tr>\n",
       "    <tr>\n",
       "      <th>9</th>\n",
       "      <td>-0.804250</td>\n",
       "      <td>-0.218014</td>\n",
       "      <td>-0.040424</td>\n",
       "      <td>-0.931841</td>\n",
       "      <td>-1.026163</td>\n",
       "      <td>-0.408862</td>\n",
       "      <td>-0.657565</td>\n",
       "      <td>-0.258976</td>\n",
       "      <td>-0.131306</td>\n",
       "      <td>-0.046078</td>\n",
       "      <td>-0.026584</td>\n",
       "      <td>0.300115</td>\n",
       "      <td>-0.065233</td>\n",
       "      <td>-1.137970</td>\n",
       "      <td>-0.116621</td>\n",
       "      <td>-0.254287</td>\n",
       "      <td>-0.079979</td>\n",
       "      <td>1.550434</td>\n",
       "      <td>-0.246321</td>\n",
       "    </tr>\n",
       "  </tbody>\n",
       "</table>\n",
       "</div>"
      ],
      "text/plain": [
       "   OverallQual  YearBuilt  TotalBsmtSF  GrLivArea  FullBath  GarageArea  \\\n",
       "0     0.646473   1.046773    -0.486324   0.383917  0.792419    0.356067   \n",
       "1    -0.078888   0.148109     0.497564  -0.495874  0.792419   -0.054383   \n",
       "2     0.646473   0.980205    -0.331228   0.533167  0.792419    0.635918   \n",
       "3     0.646473  -1.882208    -0.728661   0.397663 -1.026163    0.794501   \n",
       "4     1.371835   0.946921     0.214030   1.342260  0.792419    1.699355   \n",
       "5    -0.804250   0.713934    -0.631726  -0.299492 -1.026163    0.038901   \n",
       "6     1.371835   1.080057     1.525073   0.352496  0.792419    0.766516   \n",
       "7     0.646473   0.048257     0.121942   1.130167  0.792419    0.057558   \n",
       "8    -0.804250  -1.083395    -0.159169  -0.859180 -1.026163   -1.243753   \n",
       "9    -0.804250  -0.218014    -0.040424  -0.931841 -1.026163   -0.408862   \n",
       "\n",
       "   SalePrice  Electrical_FuseA  Electrical_FuseF  Electrical_FuseP  \\\n",
       "0   0.329972         -0.258976         -0.131306         -0.046078   \n",
       "1  -0.007540         -0.258976         -0.131306         -0.046078   \n",
       "2   0.517479         -0.258976         -0.131306         -0.046078   \n",
       "3  -0.526310         -0.258976         -0.131306         -0.046078   \n",
       "4   0.848742         -0.258976         -0.131306         -0.046078   \n",
       "5  -0.488809         -0.258976         -0.131306         -0.046078   \n",
       "6   1.561269         -0.258976         -0.131306         -0.046078   \n",
       "7   0.223718         -0.258976         -0.131306         -0.046078   \n",
       "8  -0.801320         -0.258976         -0.131306         -0.046078   \n",
       "9  -0.657565         -0.258976         -0.131306         -0.046078   \n",
       "\n",
       "   Electrical_Mix  Electrical_SBrkr  GarageType_2Types  GarageType_Attchd  \\\n",
       "0       -0.026584          0.300115          -0.065233           0.878758   \n",
       "1       -0.026584          0.300115          -0.065233           0.878758   \n",
       "2       -0.026584          0.300115          -0.065233           0.878758   \n",
       "3       -0.026584          0.300115          -0.065233          -1.137970   \n",
       "4       -0.026584          0.300115          -0.065233           0.878758   \n",
       "5       -0.026584          0.300115          -0.065233           0.878758   \n",
       "6       -0.026584          0.300115          -0.065233           0.878758   \n",
       "7       -0.026584          0.300115          -0.065233           0.878758   \n",
       "8       -0.026584          0.300115          -0.065233          -1.137970   \n",
       "9       -0.026584          0.300115          -0.065233          -1.137970   \n",
       "\n",
       "   GarageType_Basment  GarageType_BuiltIn  GarageType_CarPort  \\\n",
       "0           -0.116621           -0.254287           -0.079979   \n",
       "1           -0.116621           -0.254287           -0.079979   \n",
       "2           -0.116621           -0.254287           -0.079979   \n",
       "3           -0.116621           -0.254287           -0.079979   \n",
       "4           -0.116621           -0.254287           -0.079979   \n",
       "5           -0.116621           -0.254287           -0.079979   \n",
       "6           -0.116621           -0.254287           -0.079979   \n",
       "7           -0.116621           -0.254287           -0.079979   \n",
       "8           -0.116621           -0.254287           -0.079979   \n",
       "9           -0.116621           -0.254287           -0.079979   \n",
       "\n",
       "   GarageType_Detchd  GarageType_NoGarage  \n",
       "0          -0.644981            -0.246321  \n",
       "1          -0.644981            -0.246321  \n",
       "2          -0.644981            -0.246321  \n",
       "3           1.550434            -0.246321  \n",
       "4          -0.644981            -0.246321  \n",
       "5          -0.644981            -0.246321  \n",
       "6          -0.644981            -0.246321  \n",
       "7          -0.644981            -0.246321  \n",
       "8           1.550434            -0.246321  \n",
       "9           1.550434            -0.246321  "
      ]
     },
     "execution_count": 73,
     "metadata": {},
     "output_type": "execute_result"
    }
   ],
   "source": [
    "data_s.head(10)"
   ]
  },
  {
   "cell_type": "markdown",
   "id": "bf6773e7",
   "metadata": {},
   "source": [
    "# Train Test Split"
   ]
  },
  {
   "cell_type": "code",
   "execution_count": 74,
   "id": "c028307d",
   "metadata": {},
   "outputs": [],
   "source": [
    "from sklearn.model_selection import train_test_split"
   ]
  },
  {
   "cell_type": "code",
   "execution_count": 75,
   "id": "3ad789b9",
   "metadata": {},
   "outputs": [],
   "source": [
    "x = data.drop(columns=['SalePrice'])\n",
    "y = data['SalePrice']"
   ]
  },
  {
   "cell_type": "code",
   "execution_count": 76,
   "id": "56323fd5",
   "metadata": {
    "collapsed": true
   },
   "outputs": [
    {
     "data": {
      "text/plain": [
       "0       208500\n",
       "1       181500\n",
       "2       223500\n",
       "3       140000\n",
       "4       250000\n",
       "         ...  \n",
       "1413    175000\n",
       "1414    210000\n",
       "1415    266500\n",
       "1416    142125\n",
       "1417    147500\n",
       "Name: SalePrice, Length: 1416, dtype: int64"
      ]
     },
     "execution_count": 76,
     "metadata": {},
     "output_type": "execute_result"
    }
   ],
   "source": [
    "y"
   ]
  },
  {
   "cell_type": "code",
   "execution_count": 77,
   "id": "820680c3",
   "metadata": {},
   "outputs": [],
   "source": [
    "x_train,x_test,y_train,y_test =train_test_split(x,y,train_size=0.7)"
   ]
  },
  {
   "cell_type": "code",
   "execution_count": 78,
   "id": "e9bb8389",
   "metadata": {},
   "outputs": [
    {
     "name": "stdout",
     "output_type": "stream",
     "text": [
      "(991, 18) (425, 18) (991,) (425,)\n"
     ]
    }
   ],
   "source": [
    "print(x_train.shape,x_test.shape,y_train.shape,y_test.shape)"
   ]
  },
  {
   "cell_type": "markdown",
   "id": "97b7a044",
   "metadata": {},
   "source": [
    "## Linear Regression"
   ]
  },
  {
   "cell_type": "code",
   "execution_count": 79,
   "id": "bdc6ac76",
   "metadata": {},
   "outputs": [],
   "source": [
    "from sklearn.linear_model import LinearRegression\n",
    "from sklearn.metrics import mean_squared_error, mean_absolute_percentage_error, r2_score"
   ]
  },
  {
   "cell_type": "code",
   "execution_count": 80,
   "id": "ef9d966a",
   "metadata": {},
   "outputs": [],
   "source": [
    "model = LinearRegression()"
   ]
  },
  {
   "cell_type": "code",
   "execution_count": 81,
   "id": "0dd698bf",
   "metadata": {},
   "outputs": [
    {
     "data": {
      "text/plain": [
       "LinearRegression()"
      ]
     },
     "execution_count": 81,
     "metadata": {},
     "output_type": "execute_result"
    }
   ],
   "source": [
    "model.fit(x_train,y_train)"
   ]
  },
  {
   "cell_type": "code",
   "execution_count": 82,
   "id": "27ce7634",
   "metadata": {},
   "outputs": [],
   "source": [
    "# y = b0 + b1x1 + b2x2 + b3x3....b18x18"
   ]
  },
  {
   "cell_type": "code",
   "execution_count": 83,
   "id": "f44f7d6f",
   "metadata": {
    "collapsed": true
   },
   "outputs": [
    {
     "data": {
      "text/plain": [
       "array([ 1.63622994e+04,  3.73734627e+02,  4.62370727e+01,  6.89440310e+01,\n",
       "       -8.72408803e+03,  5.72662605e+01, -3.41406235e+03,  3.16441193e+03,\n",
       "        4.16722068e+03, -3.63797881e-12, -3.91757026e+03, -4.17497859e+04,\n",
       "        6.55948275e+03,  2.08740464e+03,  2.09056251e+04, -2.37680022e+04,\n",
       "        8.53214634e+03,  2.74331293e+04])"
      ]
     },
     "execution_count": 83,
     "metadata": {},
     "output_type": "execute_result"
    }
   ],
   "source": [
    "model.coef_"
   ]
  },
  {
   "cell_type": "code",
   "execution_count": 84,
   "id": "f814c4ec",
   "metadata": {},
   "outputs": [
    {
     "data": {
      "text/plain": [
       "-826439.334229301"
      ]
     },
     "execution_count": 84,
     "metadata": {},
     "output_type": "execute_result"
    }
   ],
   "source": [
    "model.intercept_"
   ]
  },
  {
   "cell_type": "code",
   "execution_count": 85,
   "id": "5d529895",
   "metadata": {},
   "outputs": [],
   "source": [
    "y_pred = model.predict(x_test)"
   ]
  },
  {
   "cell_type": "code",
   "execution_count": 86,
   "id": "07ef1b6d",
   "metadata": {
    "scrolled": true
   },
   "outputs": [
    {
     "data": {
      "text/html": [
       "<div>\n",
       "<style scoped>\n",
       "    .dataframe tbody tr th:only-of-type {\n",
       "        vertical-align: middle;\n",
       "    }\n",
       "\n",
       "    .dataframe tbody tr th {\n",
       "        vertical-align: top;\n",
       "    }\n",
       "\n",
       "    .dataframe thead th {\n",
       "        text-align: right;\n",
       "    }\n",
       "</style>\n",
       "<table border=\"1\" class=\"dataframe\">\n",
       "  <thead>\n",
       "    <tr style=\"text-align: right;\">\n",
       "      <th></th>\n",
       "      <th>Actual Y</th>\n",
       "      <th>Predicted Y</th>\n",
       "      <th>Residual</th>\n",
       "    </tr>\n",
       "  </thead>\n",
       "  <tbody>\n",
       "    <tr>\n",
       "      <th>249</th>\n",
       "      <td>120500</td>\n",
       "      <td>117075.741843</td>\n",
       "      <td>3424.258157</td>\n",
       "    </tr>\n",
       "    <tr>\n",
       "      <th>80</th>\n",
       "      <td>123600</td>\n",
       "      <td>113057.473264</td>\n",
       "      <td>10542.526736</td>\n",
       "    </tr>\n",
       "    <tr>\n",
       "      <th>984</th>\n",
       "      <td>187500</td>\n",
       "      <td>222394.933523</td>\n",
       "      <td>-34894.933523</td>\n",
       "    </tr>\n",
       "    <tr>\n",
       "      <th>471</th>\n",
       "      <td>172785</td>\n",
       "      <td>165250.184258</td>\n",
       "      <td>7534.815742</td>\n",
       "    </tr>\n",
       "    <tr>\n",
       "      <th>474</th>\n",
       "      <td>34900</td>\n",
       "      <td>54805.720775</td>\n",
       "      <td>-19905.720775</td>\n",
       "    </tr>\n",
       "    <tr>\n",
       "      <th>1130</th>\n",
       "      <td>233170</td>\n",
       "      <td>234004.853217</td>\n",
       "      <td>-834.853217</td>\n",
       "    </tr>\n",
       "    <tr>\n",
       "      <th>262</th>\n",
       "      <td>185000</td>\n",
       "      <td>184754.714279</td>\n",
       "      <td>245.285721</td>\n",
       "    </tr>\n",
       "    <tr>\n",
       "      <th>699</th>\n",
       "      <td>120500</td>\n",
       "      <td>108469.772148</td>\n",
       "      <td>12030.227852</td>\n",
       "    </tr>\n",
       "    <tr>\n",
       "      <th>687</th>\n",
       "      <td>129000</td>\n",
       "      <td>114716.792223</td>\n",
       "      <td>14283.207777</td>\n",
       "    </tr>\n",
       "    <tr>\n",
       "      <th>525</th>\n",
       "      <td>125000</td>\n",
       "      <td>118169.964747</td>\n",
       "      <td>6830.035253</td>\n",
       "    </tr>\n",
       "    <tr>\n",
       "      <th>449</th>\n",
       "      <td>212000</td>\n",
       "      <td>242831.404389</td>\n",
       "      <td>-30831.404389</td>\n",
       "    </tr>\n",
       "    <tr>\n",
       "      <th>925</th>\n",
       "      <td>124000</td>\n",
       "      <td>142775.072406</td>\n",
       "      <td>-18775.072406</td>\n",
       "    </tr>\n",
       "    <tr>\n",
       "      <th>426</th>\n",
       "      <td>199900</td>\n",
       "      <td>217722.961202</td>\n",
       "      <td>-17822.961202</td>\n",
       "    </tr>\n",
       "    <tr>\n",
       "      <th>912</th>\n",
       "      <td>143000</td>\n",
       "      <td>196662.837811</td>\n",
       "      <td>-53662.837811</td>\n",
       "    </tr>\n",
       "    <tr>\n",
       "      <th>824</th>\n",
       "      <td>158000</td>\n",
       "      <td>188337.137861</td>\n",
       "      <td>-30337.137861</td>\n",
       "    </tr>\n",
       "    <tr>\n",
       "      <th>1228</th>\n",
       "      <td>181000</td>\n",
       "      <td>190054.299092</td>\n",
       "      <td>-9054.299092</td>\n",
       "    </tr>\n",
       "    <tr>\n",
       "      <th>1381</th>\n",
       "      <td>136500</td>\n",
       "      <td>135968.149915</td>\n",
       "      <td>531.850085</td>\n",
       "    </tr>\n",
       "    <tr>\n",
       "      <th>873</th>\n",
       "      <td>240000</td>\n",
       "      <td>254868.322736</td>\n",
       "      <td>-14868.322736</td>\n",
       "    </tr>\n",
       "    <tr>\n",
       "      <th>274</th>\n",
       "      <td>235000</td>\n",
       "      <td>235809.185056</td>\n",
       "      <td>-809.185056</td>\n",
       "    </tr>\n",
       "    <tr>\n",
       "      <th>192</th>\n",
       "      <td>186000</td>\n",
       "      <td>173703.041805</td>\n",
       "      <td>12296.958195</td>\n",
       "    </tr>\n",
       "  </tbody>\n",
       "</table>\n",
       "</div>"
      ],
      "text/plain": [
       "      Actual Y    Predicted Y      Residual\n",
       "249     120500  117075.741843   3424.258157\n",
       "80      123600  113057.473264  10542.526736\n",
       "984     187500  222394.933523 -34894.933523\n",
       "471     172785  165250.184258   7534.815742\n",
       "474      34900   54805.720775 -19905.720775\n",
       "1130    233170  234004.853217   -834.853217\n",
       "262     185000  184754.714279    245.285721\n",
       "699     120500  108469.772148  12030.227852\n",
       "687     129000  114716.792223  14283.207777\n",
       "525     125000  118169.964747   6830.035253\n",
       "449     212000  242831.404389 -30831.404389\n",
       "925     124000  142775.072406 -18775.072406\n",
       "426     199900  217722.961202 -17822.961202\n",
       "912     143000  196662.837811 -53662.837811\n",
       "824     158000  188337.137861 -30337.137861\n",
       "1228    181000  190054.299092  -9054.299092\n",
       "1381    136500  135968.149915    531.850085\n",
       "873     240000  254868.322736 -14868.322736\n",
       "274     235000  235809.185056   -809.185056\n",
       "192     186000  173703.041805  12296.958195"
      ]
     },
     "execution_count": 86,
     "metadata": {},
     "output_type": "execute_result"
    }
   ],
   "source": [
    "resid = y_test-y_pred\n",
    "pd.DataFrame({'Actual Y':y_test,'Predicted Y':y_pred,'Residual':resid}).head(20)"
   ]
  },
  {
   "cell_type": "code",
   "execution_count": 87,
   "id": "7005970f",
   "metadata": {},
   "outputs": [],
   "source": [
    "SSE = sum(resid**2)"
   ]
  },
  {
   "cell_type": "code",
   "execution_count": 88,
   "id": "5986a8fb",
   "metadata": {},
   "outputs": [
    {
     "data": {
      "text/plain": [
       "420300869250.8206"
      ]
     },
     "execution_count": 88,
     "metadata": {},
     "output_type": "execute_result"
    }
   ],
   "source": [
    "SSE # Sum(yi - y^)**2  LOSS FUNCTION"
   ]
  },
  {
   "cell_type": "code",
   "execution_count": 89,
   "id": "21e9058c",
   "metadata": {},
   "outputs": [],
   "source": [
    "SAE = sum(resid.abs()) # Sum of absolute errors"
   ]
  },
  {
   "cell_type": "code",
   "execution_count": 90,
   "id": "a9c9fd33",
   "metadata": {},
   "outputs": [
    {
     "data": {
      "text/plain": [
       "10024605.104503445"
      ]
     },
     "execution_count": 90,
     "metadata": {},
     "output_type": "execute_result"
    }
   ],
   "source": [
    "SAE"
   ]
  },
  {
   "cell_type": "code",
   "execution_count": 91,
   "id": "a6f60506",
   "metadata": {},
   "outputs": [],
   "source": [
    "# Validation"
   ]
  },
  {
   "cell_type": "code",
   "execution_count": 92,
   "id": "995bb32c",
   "metadata": {},
   "outputs": [],
   "source": [
    "def Validation(test,pred,data):\n",
    "    r2 = r2_score(test,pred)\n",
    "    n = data.shape[0]\n",
    "    k = data.shape[1]\n",
    "    adj_r2 = 1-(((n-1)/(n-k-1))*(1-r2))\n",
    "    \n",
    "    print('R square:',r2)\n",
    "    print('Adj R square:',adj_r2)\n",
    "    print('MSE:',mean_squared_error(test,pred))\n",
    "    print('RMSE:',(mean_squared_error(test,pred))**0.5)\n",
    "    print('MAPE:',mean_absolute_percentage_error(test,pred))\n",
    "    "
   ]
  },
  {
   "cell_type": "code",
   "execution_count": 93,
   "id": "9aaa30fe",
   "metadata": {},
   "outputs": [
    {
     "name": "stdout",
     "output_type": "stream",
     "text": [
      "R square: 0.8247240442905083\n",
      "Adj R square: 0.8223384832887315\n",
      "MSE: 988943221.7666372\n",
      "RMSE: 31447.46765268449\n",
      "MAPE: 0.1493471069816083\n"
     ]
    }
   ],
   "source": [
    "Validation(y_test,y_pred,data)"
   ]
  },
  {
   "cell_type": "markdown",
   "id": "c9853de4",
   "metadata": {},
   "source": [
    "## Statsmodel"
   ]
  },
  {
   "cell_type": "code",
   "execution_count": 94,
   "id": "2b6ef152",
   "metadata": {},
   "outputs": [],
   "source": [
    "import statsmodels.api as sm"
   ]
  },
  {
   "cell_type": "code",
   "execution_count": 95,
   "id": "28f35104",
   "metadata": {
    "collapsed": true
   },
   "outputs": [
    {
     "name": "stdout",
     "output_type": "stream",
     "text": [
      "                            OLS Regression Results                            \n",
      "==============================================================================\n",
      "Dep. Variable:              SalePrice   R-squared:                       0.824\n",
      "Model:                            OLS   Adj. R-squared:                  0.822\n",
      "Method:                 Least Squares   F-statistic:                     408.8\n",
      "Date:                Thu, 07 Jul 2022   Prob (F-statistic):               0.00\n",
      "Time:                        16:41:43   Log-Likelihood:                -16766.\n",
      "No. Observations:                1416   AIC:                         3.357e+04\n",
      "Df Residuals:                    1399   BIC:                         3.366e+04\n",
      "Df Model:                          16                                         \n",
      "Covariance Type:            nonrobust                                         \n",
      "=======================================================================================\n",
      "                          coef    std err          t      P>|t|      [0.025      0.975]\n",
      "---------------------------------------------------------------------------------------\n",
      "OverallQual          1.794e+04   1058.446     16.949      0.000    1.59e+04       2e+04\n",
      "YearBuilt             361.9266     48.663      7.437      0.000     266.467     457.386\n",
      "TotalBsmtSF            45.4707      2.855     15.927      0.000      39.870      51.071\n",
      "GrLivArea              63.2122      2.889     21.883      0.000      57.546      68.879\n",
      "FullBath            -9621.1261   2421.107     -3.974      0.000   -1.44e+04   -4871.735\n",
      "GarageArea             57.2656      6.529      8.771      0.000      44.457      70.074\n",
      "Electrical_FuseA    -4.641e+05   5.45e+04     -8.515      0.000   -5.71e+05   -3.57e+05\n",
      "Electrical_FuseF    -4.588e+05   5.48e+04     -8.374      0.000   -5.66e+05   -3.51e+05\n",
      "Electrical_FuseP    -4.724e+05   5.68e+04     -8.322      0.000   -5.84e+05   -3.61e+05\n",
      "Electrical_Mix      -5.061e+05   6.19e+04     -8.179      0.000   -6.27e+05   -3.85e+05\n",
      "Electrical_SBrkr    -4.643e+05    5.5e+04     -8.435      0.000   -5.72e+05   -3.56e+05\n",
      "GarageType_2Types   -3.822e+05   4.02e+04     -9.499      0.000   -4.61e+05   -3.03e+05\n",
      "GarageType_Attchd   -3.348e+05   3.94e+04     -8.502      0.000   -4.12e+05   -2.58e+05\n",
      "GarageType_Basment  -3.404e+05   3.96e+04     -8.608      0.000   -4.18e+05   -2.63e+05\n",
      "GarageType_BuiltIn  -3.192e+05   4.02e+04     -7.941      0.000   -3.98e+05    -2.4e+05\n",
      "GarageType_CarPort  -3.402e+05      4e+04     -8.513      0.000   -4.19e+05   -2.62e+05\n",
      "GarageType_Detchd    -3.33e+05   3.83e+04     -8.686      0.000   -4.08e+05   -2.58e+05\n",
      "GarageType_NoGarage -3.157e+05   3.89e+04     -8.109      0.000   -3.92e+05   -2.39e+05\n",
      "==============================================================================\n",
      "Omnibus:                      482.514   Durbin-Watson:                   1.953\n",
      "Prob(Omnibus):                  0.000   Jarque-Bera (JB):             4528.104\n",
      "Skew:                           1.309   Prob(JB):                         0.00\n",
      "Kurtosis:                      11.360   Cond. No.                     3.94e+19\n",
      "==============================================================================\n",
      "\n",
      "Notes:\n",
      "[1] Standard Errors assume that the covariance matrix of the errors is correctly specified.\n",
      "[2] The smallest eigenvalue is  7e-30. This might indicate that there are\n",
      "strong multicollinearity problems or that the design matrix is singular.\n"
     ]
    }
   ],
   "source": [
    "model_stat= sm.OLS(y,x)\n",
    "result = model_stat.fit()\n",
    "print(result.summary())"
   ]
  },
  {
   "cell_type": "code",
   "execution_count": 96,
   "id": "5091a8b8",
   "metadata": {},
   "outputs": [],
   "source": [
    "# Durbin-watson test\n",
    "#The test statistic is approximately equal to 2*(1-r) where r is the sample autocorrelation of the \n",
    "# residuals. Thus, for r == 0, indicating no serial correlation, the test statistic equals 2. \n",
    "#This statistic will always be between 0 and 4. The closer to 0 the statistic, the more evidence \n",
    "#for positive serial correlation. The closer to 4, the more evidence for negative serial correlation.\n",
    "# Test for autocorelation\n",
    "# 2 ---> No Autocorrelation (Homoscedastic)\n",
    "# 0-2 ---> Pos Autocorrelation (Hetroscedastic)\n",
    "# 2-4 ---> Neg Autocorrelation (Hetroscadestic)"
   ]
  },
  {
   "cell_type": "code",
   "execution_count": 97,
   "id": "9c39ff2f",
   "metadata": {},
   "outputs": [],
   "source": [
    "#The Jarque-Bera test statistic tests the null that the data is normally distributed against an \n",
    "#alternative that the data follow some other distribution.\n",
    "# Prob(JB) >0.025 and <0.975\n",
    "# Residuals are normally distributed"
   ]
  },
  {
   "cell_type": "code",
   "execution_count": 98,
   "id": "95e17df8",
   "metadata": {},
   "outputs": [
    {
     "data": {
      "image/png": "[encoded data removed]",
      "text/plain": [
       "<Figure size 432x288 with 1 Axes>"
      ]
     },
     "metadata": {
      "needs_background": "light"
     },
     "output_type": "display_data"
    }
   ],
   "source": [
    "plt.scatter(x=y_pred,y=resid)\n",
    "plt.axhline(y=0,color='r')\n",
    "plt.show()"
   ]
  },
  {
   "cell_type": "markdown",
   "id": "38aa5f26",
   "metadata": {},
   "source": [
    "Althought the r2 value (score) is above 80% but the model is not reliable for this dataset as it is violating the assumptions of linear regression. The residuals in the data set are not normal. (this is confirmed by Jaraque-bera test and the plot above)"
   ]
  },
  {
   "cell_type": "markdown",
   "id": "d34de0b3",
   "metadata": {},
   "source": [
    "## Test for overfit"
   ]
  },
  {
   "cell_type": "code",
   "execution_count": 99,
   "id": "f03fcbf8",
   "metadata": {},
   "outputs": [],
   "source": [
    "y_pred_train = model.predict(x_train)"
   ]
  },
  {
   "cell_type": "code",
   "execution_count": 100,
   "id": "e32722cf",
   "metadata": {},
   "outputs": [
    {
     "name": "stdout",
     "output_type": "stream",
     "text": [
      "R square: 0.8207300769271895\n",
      "Adj R square: 0.8182901567707543\n",
      "MSE: 1204382839.7537007\n",
      "RMSE: 34704.219336468304\n",
      "MAPE: 0.1447287530982061\n"
     ]
    }
   ],
   "source": [
    "Validation(y_train,y_pred_train,data)"
   ]
  },
  {
   "cell_type": "code",
   "execution_count": 101,
   "id": "e8f3291f",
   "metadata": {},
   "outputs": [
    {
     "name": "stdout",
     "output_type": "stream",
     "text": [
      "R square: 0.8247240442905083\n",
      "Adj R square: 0.8223384832887315\n",
      "MSE: 988943221.7666372\n",
      "RMSE: 31447.46765268449\n",
      "MAPE: 0.1493471069816083\n"
     ]
    }
   ],
   "source": [
    "Validation(y_test,y_pred,data)"
   ]
  },
  {
   "cell_type": "markdown",
   "id": "8e760ca4",
   "metadata": {},
   "source": [
    "## Regularization"
   ]
  },
  {
   "cell_type": "markdown",
   "id": "bec37b85",
   "metadata": {},
   "source": [
    "### Ridge Regression"
   ]
  },
  {
   "cell_type": "code",
   "execution_count": 102,
   "id": "42afd877",
   "metadata": {},
   "outputs": [],
   "source": [
    "from sklearn.linear_model import Ridge,Lasso"
   ]
  },
  {
   "cell_type": "code",
   "execution_count": 103,
   "id": "dc301f76",
   "metadata": {},
   "outputs": [],
   "source": [
    "model_ridge = Ridge(alpha=5)"
   ]
  },
  {
   "cell_type": "code",
   "execution_count": 104,
   "id": "f318067b",
   "metadata": {},
   "outputs": [
    {
     "data": {
      "text/plain": [
       "Ridge(alpha=5)"
      ]
     },
     "execution_count": 104,
     "metadata": {},
     "output_type": "execute_result"
    }
   ],
   "source": [
    "model_ridge.fit(x_train,y_train)"
   ]
  },
  {
   "cell_type": "code",
   "execution_count": 105,
   "id": "c44ddd9d",
   "metadata": {},
   "outputs": [],
   "source": [
    "y_pred_ridge = model_ridge.predict(x_test)"
   ]
  },
  {
   "cell_type": "code",
   "execution_count": 106,
   "id": "d3e3228b",
   "metadata": {},
   "outputs": [
    {
     "name": "stdout",
     "output_type": "stream",
     "text": [
      "R square: 0.8271297786538425\n",
      "Adj R square: 0.8247769604550051\n",
      "MSE: 975369570.535582\n",
      "RMSE: 31230.907296067817\n",
      "MAPE: 0.14733334733070058\n"
     ]
    }
   ],
   "source": [
    "Validation(y_test,y_pred_ridge,data)"
   ]
  },
  {
   "cell_type": "code",
   "execution_count": 107,
   "id": "01e2803f",
   "metadata": {},
   "outputs": [],
   "source": [
    "from sklearn.model_selection import GridSearchCV"
   ]
  },
  {
   "cell_type": "code",
   "execution_count": 108,
   "id": "3e97321e",
   "metadata": {},
   "outputs": [],
   "source": [
    "param = {'alpha':[0.001,0.01,0.1,1,10,100,500]}"
   ]
  },
  {
   "cell_type": "code",
   "execution_count": 109,
   "id": "b42d2804",
   "metadata": {},
   "outputs": [],
   "source": [
    "gscv = GridSearchCV(estimator=Ridge(),\n",
    "                   param_grid=param,\n",
    "                   scoring='r2',\n",
    "                   cv=3,\n",
    "                   verbose=3)"
   ]
  },
  {
   "cell_type": "code",
   "execution_count": 110,
   "id": "ae080022",
   "metadata": {},
   "outputs": [],
   "source": [
    "#import sklearn\n",
    "#sorted(sklearn.metrics.SCORERS.keys())"
   ]
  },
  {
   "cell_type": "code",
   "execution_count": 111,
   "id": "6134fdf4",
   "metadata": {
    "collapsed": true
   },
   "outputs": [
    {
     "name": "stdout",
     "output_type": "stream",
     "text": [
      "Fitting 3 folds for each of 7 candidates, totalling 21 fits\n",
      "[CV 1/3] END .......................alpha=0.001;, score=0.802 total time=   0.0s\n",
      "[CV 2/3] END .......................alpha=0.001;, score=0.808 total time=   0.0s\n",
      "[CV 3/3] END .......................alpha=0.001;, score=0.816 total time=   0.0s\n",
      "[CV 1/3] END ........................alpha=0.01;, score=0.802 total time=   0.0s\n",
      "[CV 2/3] END ........................alpha=0.01;, score=0.808 total time=   0.0s\n",
      "[CV 3/3] END ........................alpha=0.01;, score=0.817 total time=   0.0s\n",
      "[CV 1/3] END .........................alpha=0.1;, score=0.802 total time=   0.0s\n",
      "[CV 2/3] END .........................alpha=0.1;, score=0.808 total time=   0.0s\n",
      "[CV 3/3] END .........................alpha=0.1;, score=0.817 total time=   0.0s\n",
      "[CV 1/3] END ...........................alpha=1;, score=0.803 total time=   0.0s\n",
      "[CV 2/3] END ...........................alpha=1;, score=0.809 total time=   0.0s\n",
      "[CV 3/3] END ...........................alpha=1;, score=0.817 total time=   0.0s\n",
      "[CV 1/3] END ..........................alpha=10;, score=0.804 total time=   0.0s\n",
      "[CV 2/3] END ..........................alpha=10;, score=0.808 total time=   0.0s\n",
      "[CV 3/3] END ..........................alpha=10;, score=0.817 total time=   0.0s\n",
      "[CV 1/3] END .........................alpha=100;, score=0.805 total time=   0.0s\n",
      "[CV 2/3] END .........................alpha=100;, score=0.805 total time=   0.0s\n",
      "[CV 3/3] END .........................alpha=100;, score=0.813 total time=   0.0s\n",
      "[CV 1/3] END .........................alpha=500;, score=0.801 total time=   0.0s\n",
      "[CV 2/3] END .........................alpha=500;, score=0.796 total time=   0.0s\n",
      "[CV 3/3] END .........................alpha=500;, score=0.803 total time=   0.0s\n"
     ]
    },
    {
     "data": {
      "text/plain": [
       "GridSearchCV(cv=3, estimator=Ridge(),\n",
       "             param_grid={'alpha': [0.001, 0.01, 0.1, 1, 10, 100, 500]},\n",
       "             scoring='r2', verbose=3)"
      ]
     },
     "execution_count": 111,
     "metadata": {},
     "output_type": "execute_result"
    }
   ],
   "source": [
    "gscv.fit(x_train,y_train)"
   ]
  },
  {
   "cell_type": "code",
   "execution_count": 112,
   "id": "7d98a8a5",
   "metadata": {},
   "outputs": [
    {
     "data": {
      "text/plain": [
       "{'alpha': 10}"
      ]
     },
     "execution_count": 112,
     "metadata": {},
     "output_type": "execute_result"
    }
   ],
   "source": [
    "gscv.best_params_"
   ]
  },
  {
   "cell_type": "code",
   "execution_count": 113,
   "id": "54a0bf27",
   "metadata": {},
   "outputs": [
    {
     "data": {
      "text/plain": [
       "0.8097025596158689"
      ]
     },
     "execution_count": 113,
     "metadata": {},
     "output_type": "execute_result"
    }
   ],
   "source": [
    "gscv.best_score_"
   ]
  },
  {
   "cell_type": "code",
   "execution_count": 114,
   "id": "7316da80",
   "metadata": {},
   "outputs": [],
   "source": [
    "from sklearn.tree import DecisionTreeRegressor\n",
    "dt_model = DecisionTreeRegressor()"
   ]
  },
  {
   "cell_type": "code",
   "execution_count": 118,
   "id": "710101ca",
   "metadata": {},
   "outputs": [],
   "source": [
    "params = {'criterion': ['Squared_error','absolute_error'],'max_dept':[4.5,6,7,8]}\n",
    "gscv = GridSearchCV(estimator=dt_model,param_grid=param,scoring='r2',verbose=3)"
   ]
  },
  {
   "cell_type": "code",
   "execution_count": null,
   "id": "e51ca422",
   "metadata": {},
   "outputs": [],
   "source": []
  }
 ],
 "metadata": {
  "kernelspec": {
   "display_name": "Python 3 (ipykernel)",
   "language": "python",
   "name": "python3"
  },
  "language_info": {
   "codemirror_mode": {
    "name": "ipython",
    "version": 3
   },
   "file_extension": ".py",
   "mimetype": "text/x-python",
   "name": "python",
   "nbconvert_exporter": "python",
   "pygments_lexer": "ipython3",
   "version": "3.9.13"
  }
 },
 "nbformat": 4,
 "nbformat_minor": 5
}
